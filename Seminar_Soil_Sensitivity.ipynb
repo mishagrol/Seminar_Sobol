{
  "nbformat": 4,
  "nbformat_minor": 0,
  "metadata": {
    "kernelspec": {
      "display_name": "Python 3",
      "language": "python",
      "name": "python3"
    },
    "language_info": {
      "codemirror_mode": {
        "name": "ipython",
        "version": 3
      },
      "file_extension": ".py",
      "mimetype": "text/x-python",
      "name": "python",
      "nbconvert_exporter": "python",
      "pygments_lexer": "ipython3",
      "version": "3.6.10"
    },
    "colab": {
      "name": "Seminar_Soil_Sensitivity.ipynb",
      "provenance": [],
      "collapsed_sections": [
        "KWTtMUZsff84"
      ],
      "include_colab_link": true
    }
  },
  "cells": [
    {
      "cell_type": "markdown",
      "metadata": {
        "id": "view-in-github",
        "colab_type": "text"
      },
      "source": [
        "<a href=\"https://colab.research.google.com/github/mishagrol/Seminar_Sobol/blob/master/Seminar_Soil_Sensitivity.ipynb\" target=\"_parent\"><img src=\"https://colab.research.google.com/assets/colab-badge.svg\" alt=\"Open In Colab\"/></a>"
      ]
    },
    {
      "cell_type": "markdown",
      "metadata": {
        "id": "7M3sjbWCff8u",
        "colab_type": "text"
      },
      "source": [
        "# Digital agro \n",
        "\n",
        "# Sensitivity analysis of models\n",
        "\n",
        "# Seminar - 24.04.2020\n",
        "\n",
        "## Mikhail Gasanov "
      ]
    },
    {
      "cell_type": "markdown",
      "metadata": {
        "id": "LvjsdkyNff8x",
        "colab_type": "text"
      },
      "source": [
        "<img src=\"http://drive.google.com/uc?export=view&id=1uijz-Bm9Mxwv8eI6CL8QsumiP7ISqnFo\">"
      ]
    },
    {
      "cell_type": "markdown",
      "metadata": {
        "colab_type": "text",
        "id": "hrFw5dRoq0ZE"
      },
      "source": [
        "<img src=\"http://drive.google.com/uc?export=view&id=1dPvni3r4B3FqMFKugxtT8GfH1_W1jNNR\">"
      ]
    },
    {
      "cell_type": "markdown",
      "metadata": {
        "id": "H-Owf0xWff8v",
        "colab_type": "text"
      },
      "source": [
        "### The scheme and main blocks of the plant growth model"
      ]
    },
    {
      "cell_type": "markdown",
      "metadata": {
        "id": "DYO-YyrfiC5D",
        "colab_type": "text"
      },
      "source": [
        "<img src=\"http://drive.google.com/uc?export=view&id=1Pm5Zysv5PxYcTAQDuPe0LNz_zbE0msEW\">"
      ]
    },
    {
      "cell_type": "markdown",
      "metadata": {
        "id": "Wq03bRoDff8y",
        "colab_type": "text"
      },
      "source": [
        "\n",
        "## git clone "
      ]
    },
    {
      "cell_type": "code",
      "metadata": {
        "id": "Jp5PPrbBAHzf",
        "colab_type": "code",
        "colab": {
          "base_uri": "https://localhost:8080/",
          "height": 149
        },
        "outputId": "77cdc600-09f2-4bb7-8eae-3ea815bb8189"
      },
      "source": [
        "!git clone https://github.com/mishagrol/Seminar_Sobol.git\n",
        "!cp -r ./Seminar_Sobol/* ."
      ],
      "execution_count": null,
      "outputs": [
        {
          "output_type": "stream",
          "text": [
            "Cloning into 'Seminar_Sobol'...\n",
            "remote: Enumerating objects: 213, done.\u001b[K\n",
            "remote: Counting objects: 100% (213/213), done.\u001b[K\n",
            "remote: Compressing objects: 100% (163/163), done.\u001b[K\n",
            "remote: Total 213 (delta 72), reused 184 (delta 47), pack-reused 0\u001b[K\n",
            "Receiving objects: 100% (213/213), 33.39 MiB | 27.20 MiB/s, done.\n",
            "Resolving deltas: 100% (72/72), done.\n"
          ],
          "name": "stdout"
        }
      ]
    },
    {
      "cell_type": "markdown",
      "metadata": {
        "id": "4hifI4Y3ff83",
        "colab_type": "text"
      },
      "source": [
        "# Running PCSE/WOFOST with custom input datф\n",
        "\n",
        "This Jupyter notebook will show you how to read inputs from files for running PCSE/WOFOST.\n",
        "\n",
        "thanks to **Allard de Wit**\n",
        "\n",
        "**Prerequisites for running this notebook**\n",
        "\n",
        "Several packages need to be installed for running PCSE/WOFOST:\n",
        "\n",
        "  1. `PCSE` and its dependencies. See the [PCSE user guide](http://pcse.readthedocs.io/en/stable/installing.html) for more information;\n",
        "  2. The `pandas` module for processing and storing WOFOST output;\n",
        "  3. The `matplotlib` module for generating charts"
      ]
    },
    {
      "cell_type": "markdown",
      "metadata": {
        "id": "kDCHB9wDff84",
        "colab_type": "text"
      },
      "source": [
        "<img style=\"float: right;\" src=\"data:image/png;base64,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\">\n",
        "\n"
      ]
    },
    {
      "cell_type": "markdown",
      "metadata": {
        "id": "KWTtMUZsff84",
        "colab_type": "text"
      },
      "source": [
        "## Introduction\n",
        "\n",
        "For running PCSE/WOFOST (and PCSE models in general) with your own data sources you need three different types of inputs:\n",
        "\n",
        " 1. Model parameters that parameterize the different model components. These parameters usually consist of a set of crop parameters (or multiple sets in case of crop rotations), a set of soil parameters and a set of site parameters. The latter provide ancillary parameters that are specific for a location, for example the initial amount of moisture in the soil.\n",
        " 2. Driving variables represented by weather data which can be derived from various sources.\n",
        " 3. Agromanagement actions which specify the farm activities that will take place on the field that is simulated by PCSE.\n",
        "\n",
        "For this example we will run a simulation for sugar beet in Wageningen (Netherlands) and we will read the input data step by step from several different sources instead of using the pre-configured start_wofost() script. For the example we will assume that data files are in the `data` directory within the directory where this notebook is located. This will be the case if you downloaded the notebooks from github."
      ]
    },
    {
      "cell_type": "markdown",
      "metadata": {
        "id": "7N75hfVIff85",
        "colab_type": "text"
      },
      "source": [
        "## Importing the relevant modules\n"
      ]
    },
    {
      "cell_type": "code",
      "metadata": {
        "id": "LH1bPe5VlVhQ",
        "colab_type": "code",
        "colab": {
          "base_uri": "https://localhost:8080/",
          "height": 357
        },
        "outputId": "a3df8449-a311-4635-c039-96d9293f8c3c"
      },
      "source": [
        "!pip install pcse"
      ],
      "execution_count": null,
      "outputs": [
        {
          "output_type": "stream",
          "text": [
            "Requirement already satisfied: pcse in /usr/local/lib/python3.6/dist-packages (5.4.2)\n",
            "Requirement already satisfied: SQLAlchemy>=0.8.0 in /usr/local/lib/python3.6/dist-packages (from pcse) (1.3.19)\n",
            "Requirement already satisfied: traitlets-pcse==5.0.0.dev in /usr/local/lib/python3.6/dist-packages (from pcse) (5.0.0.dev0)\n",
            "Requirement already satisfied: numpy>=1.6.0 in /usr/local/lib/python3.6/dist-packages (from pcse) (1.18.5)\n",
            "Requirement already satisfied: PyYAML>=3.11 in /usr/local/lib/python3.6/dist-packages (from pcse) (3.13)\n",
            "Requirement already satisfied: xlrd>=0.9.3 in /usr/local/lib/python3.6/dist-packages (from pcse) (1.1.0)\n",
            "Requirement already satisfied: pandas>=0.20 in /usr/local/lib/python3.6/dist-packages (from pcse) (1.0.5)\n",
            "Requirement already satisfied: requests>=2.0.0 in /usr/local/lib/python3.6/dist-packages (from pcse) (2.23.0)\n",
            "Requirement already satisfied: xlwt>=1.0.0 in /usr/local/lib/python3.6/dist-packages (from pcse) (1.3.0)\n",
            "Requirement already satisfied: decorator in /usr/local/lib/python3.6/dist-packages (from traitlets-pcse==5.0.0.dev->pcse) (4.4.2)\n",
            "Requirement already satisfied: ipython-genutils in /usr/local/lib/python3.6/dist-packages (from traitlets-pcse==5.0.0.dev->pcse) (0.2.0)\n",
            "Requirement already satisfied: six in /usr/local/lib/python3.6/dist-packages (from traitlets-pcse==5.0.0.dev->pcse) (1.15.0)\n",
            "Requirement already satisfied: pytz>=2017.2 in /usr/local/lib/python3.6/dist-packages (from pandas>=0.20->pcse) (2018.9)\n",
            "Requirement already satisfied: python-dateutil>=2.6.1 in /usr/local/lib/python3.6/dist-packages (from pandas>=0.20->pcse) (2.8.1)\n",
            "Requirement already satisfied: idna<3,>=2.5 in /usr/local/lib/python3.6/dist-packages (from requests>=2.0.0->pcse) (2.10)\n",
            "Requirement already satisfied: certifi>=2017.4.17 in /usr/local/lib/python3.6/dist-packages (from requests>=2.0.0->pcse) (2020.6.20)\n",
            "Requirement already satisfied: urllib3!=1.25.0,!=1.25.1,<1.26,>=1.21.1 in /usr/local/lib/python3.6/dist-packages (from requests>=2.0.0->pcse) (1.24.3)\n",
            "Requirement already satisfied: chardet<4,>=3.0.2 in /usr/local/lib/python3.6/dist-packages (from requests>=2.0.0->pcse) (3.0.4)\n"
          ],
          "name": "stdout"
        }
      ]
    },
    {
      "cell_type": "code",
      "metadata": {
        "id": "NQmT2x5nff85",
        "colab_type": "code",
        "colab": {
          "base_uri": "https://localhost:8080/",
          "height": 92
        },
        "outputId": "38a1dc94-6197-45a9-9f76-c2076308842d"
      },
      "source": [
        "%matplotlib inline\n",
        "import sys, os\n",
        "import matplotlib\n",
        "matplotlib.style.use(\"ggplot\")\n",
        "import matplotlib.pyplot as plt\n",
        "import pandas as pd\n",
        "import yaml\n",
        "import numpy as np\n",
        "\n",
        "data_dir = os.path.join(os.getcwd(), \"data\")\n",
        "import pcse\n",
        "print(\"This notebook was built with:\")\n",
        "print(\"python version: %s \" % sys.version)\n",
        "print(\"PCSE version: %s\" %  pcse.__version__)"
      ],
      "execution_count": null,
      "outputs": [
        {
          "output_type": "stream",
          "text": [
            "This notebook was built with:\n",
            "python version: 3.6.9 (default, Jul 17 2020, 12:50:27) \n",
            "[GCC 8.4.0] \n",
            "PCSE version: 5.4.2\n"
          ],
          "name": "stdout"
        }
      ]
    },
    {
      "cell_type": "markdown",
      "metadata": {
        "id": "OwBANTHXff89",
        "colab_type": "text"
      },
      "source": [
        "## Reading model parameters\n",
        "### Crop parameters\n",
        "\n",
        "The crop parameters consist of parameter names and the corresponding parameter values that are needed to parameterize the components of the crop simulation model. These are crop-specific values regarding phenology, assimilation, respiration, biomass partitioning, etc. The parameter file for sugar beet is taken from the crop files in the WOFOST Control Centre.\n",
        "\n",
        "As many crop models in Wageningen were written in FORTRAN, the crop parameters for many models in Wageningen are often provided in the CABO format that could be read with the TTUTIL FORTRAN library. This CABO format will be gradually phased out and PCSE will move to a new format based on YAML, see [here for an example](https://github.com/ajwdewit/WOFOST_crop_parameters/blob/master/wheat.yaml). However, PCSE tries to be backward compatible as much as possible and provides the `CABOFileReader` for reading parameter files in CABO format. The `CABOFileReader` returns a dictionary with the parameter name/value pairs:"
      ]
    },
    {
      "cell_type": "code",
      "metadata": {
        "id": "ie930bW_ff8-",
        "colab_type": "code",
        "colab": {}
      },
      "source": [
        "from pcse.fileinput import CABOFileReader\n",
        "cropfile = os.path.join(data_dir, 'crop', 'SUG0601.crop')\n",
        "cropdata = CABOFileReader(cropfile)"
      ],
      "execution_count": null,
      "outputs": []
    },
    {
      "cell_type": "code",
      "metadata": {
        "id": "qoyjh53gLVbM",
        "colab_type": "code",
        "colab": {}
      },
      "source": [
        "#potato\n",
        "from pcse.fileinput import CABOFileReader\n",
        "cropfile_potato = os.path.join(data_dir, 'crop', 'POT701.CAB')\n",
        "cropdata_potato = CABOFileReader(cropfile_potato)"
      ],
      "execution_count": null,
      "outputs": []
    },
    {
      "cell_type": "code",
      "metadata": {
        "id": "tmx8WTgPff9B",
        "colab_type": "code",
        "colab": {
          "base_uri": "https://localhost:8080/",
          "height": 36
        },
        "outputId": "d58be0ce-deb1-4fc6-d5e2-13049afddf36"
      },
      "source": [
        "# Number of parameters for our crop \n",
        "len(cropdata_potato)"
      ],
      "execution_count": null,
      "outputs": [
        {
          "output_type": "execute_result",
          "data": {
            "text/plain": [
              "63"
            ]
          },
          "metadata": {
            "tags": []
          },
          "execution_count": 32
        }
      ]
    },
    {
      "cell_type": "markdown",
      "metadata": {
        "id": "uPZJ5kpgff9H",
        "colab_type": "text"
      },
      "source": [
        "### Soil parameters\n",
        "The soildata dictionary provides the parameter name/value pairs related to the soil type and soil physical properties. The number of parameters is variable depending on the soil water balance type that is used for the simulation. For this example, we will use the water balance for freely draining soils and use the soil file for medium fine sand: `ec3.soil`. This file is also taken from the soil files in the [WOFOST Control Centre](http://www.wageningenur.nl/wofost)."
      ]
    },
    {
      "cell_type": "code",
      "metadata": {
        "id": "cK5ftsxFff9I",
        "colab_type": "code",
        "colab": {
          "base_uri": "https://localhost:8080/",
          "height": 451
        },
        "outputId": "73d285e1-15a1-4444-8923-63ccced7003b"
      },
      "source": [
        "soilfile = os.path.join(data_dir, 'soil', 'ec3.soil')\n",
        "soildata = CABOFileReader(soilfile)\n",
        "print(soildata)"
      ],
      "execution_count": null,
      "outputs": [
        {
          "output_type": "stream",
          "text": [
            "** $Id: ec3.new 1.2 1997/09/18 17:33:54 LEM release $\n",
            "**\n",
            "** SOIL DATA FILE for use with WOFOST Version 5.0, June 1990\n",
            "**\n",
            "** EC3-medium fine\n",
            "------------------------------------\n",
            "SMW: 0.104 <class 'float'>\n",
            "SMFCF: 0.3 <class 'float'>\n",
            "SM0: 0.41 <class 'float'>\n",
            "CRAIRC: 0.06 <class 'float'>\n",
            "K0: 25.586 <class 'float'>\n",
            "SOPE: 1.47 <class 'float'>\n",
            "KSUB: 1.47 <class 'float'>\n",
            "SPADS: 0.1 <class 'float'>\n",
            "SPODS: 0.03 <class 'float'>\n",
            "SPASS: 0.2 <class 'float'>\n",
            "SPOSS: 0.05 <class 'float'>\n",
            "DEFLIM: -0.3 <class 'float'>\n",
            "RDMSOL: 120 <class 'int'>\n",
            "SOLNAM: EC3-medium fine <class 'str'>\n",
            "SMTAB: [-1.0, 0.41, 1.0, 0.398, 1.3, 0.389, 1.491, 0.38, 2.0, 0.34, 2.4, 0.287, 2.7, 0.241, 3.4, 0.148, 4.204, 0.104, 6.0, 0.09] <class 'list'>\n",
            "CONTAB: [0.0, 1.408, 1.0, 0.167, 1.3, -0.215, 1.491, -0.638, 1.7, -0.854, 2.0, -1.155, 2.4, -1.796, 2.7, -2.26, 3.0, -2.745, 3.4, -3.357, 3.7, -3.824, 4.0, -4.276, 4.204, -4.678] <class 'list'>\n",
            "\n"
          ],
          "name": "stdout"
        }
      ]
    },
    {
      "cell_type": "markdown",
      "metadata": {
        "id": "CB5Wr5kVff9R",
        "colab_type": "text"
      },
      "source": [
        "### Site parameters\n",
        "\n",
        "The site parameters provide ancillary parameters that are not related to the crop or the soil. Examples are the initial conditions of the water balance such as the initial soil moisture content (WAV) and the initial and maximum surface storage (SSI, SSMAX). Also the atmospheric $CO_{2}$ \n",
        "concentration is a typical site parameter. For the moment, we can define these parameters directly on the Python commandline as a simple python dictionary. However, it is more convenient to use the `WOFOST71SiteDataProvider` that documents the site parameters and provides sensible defaults:"
      ]
    },
    {
      "cell_type": "code",
      "metadata": {
        "id": "98xI8e_9ff9S",
        "colab_type": "code",
        "colab": {
          "base_uri": "https://localhost:8080/",
          "height": 36
        },
        "outputId": "cb0f1050-965e-43e3-dde1-14d9be09e963"
      },
      "source": [
        "from pcse.util import WOFOST71SiteDataProvider\n",
        "sitedata = WOFOST71SiteDataProvider(WAV=100, CO2=360)\n",
        "print(sitedata)"
      ],
      "execution_count": null,
      "outputs": [
        {
          "output_type": "stream",
          "text": [
            "{'IFUNRN': 0, 'NOTINF': 0, 'SSI': 0.0, 'SSMAX': 0.0, 'WAV': 100.0, 'SMLIM': 0.4, 'CO2': 360.0}\n"
          ],
          "name": "stdout"
        }
      ]
    },
    {
      "cell_type": "markdown",
      "metadata": {
        "id": "zh-FCwyLff9X",
        "colab_type": "text"
      },
      "source": [
        "### Packaging all parameters\n",
        "Finally, we need to pack the different sets of parameters into one variable using the `ParameterProvider`. This is needed because PCSE expects one variable that contains all parameter values. Using this approach has the additional advantage that parameter value can be easily overridden in case of running multiple simulations with slightly different parameter values:"
      ]
    },
    {
      "cell_type": "code",
      "metadata": {
        "id": "2aBDkIxSff9X",
        "colab_type": "code",
        "colab": {}
      },
      "source": [
        "from pcse.base import ParameterProvider\n",
        "parameters = ParameterProvider(cropdata=cropdata, soildata=soildata, sitedata=sitedata)"
      ],
      "execution_count": null,
      "outputs": []
    },
    {
      "cell_type": "markdown",
      "metadata": {
        "id": "ZQx5Hv5pff9a",
        "colab_type": "text"
      },
      "source": [
        "## Agromanagement\n",
        "The agromanagement inputs provide the start date of the agricultural campaign, the start_date/start_type of the crop simulation, the end_date/end_type of the crop simulation and the maximum duration of the crop simulation. The latter is included to avoid unrealistically long simulations for example as a results of a too high temperature sum requirement.\n",
        "\n",
        "The agromanagement inputs are defined with a special syntax called [YAML](http://yaml.org/) which allows to easily create more complex structures which is needed for defining the agromanagement. The agromanagement file for sugar beet in Wageningen `sugarbeet_calendar.agro` can be read with the `YAMLAgroManagementReader`:"
      ]
    },
    {
      "cell_type": "code",
      "metadata": {
        "id": "Xd3ej9Xmff9d",
        "colab_type": "code",
        "colab": {
          "base_uri": "https://localhost:8080/",
          "height": 432
        },
        "outputId": "64ef5278-d792-4ad5-f54c-dfd9e476ad1f"
      },
      "source": [
        "from pcse.fileinput import YAMLAgroManagementReader\n",
        "#crop rotation for Moscow region\n",
        "agromanagement_file = os.path.join(data_dir, 'agro', 'sugarbeet_calendar_Moscow_short.agro')\n",
        "#agromanagement_file = os.path.join(data_dir, 'agro', 'sugarbeet_calendar.agro')\n",
        "agromanagement = YAMLAgroManagementReader(agromanagement_file)\n",
        "print(agromanagement)"
      ],
      "execution_count": null,
      "outputs": [
        {
          "output_type": "stream",
          "text": [
            "!!python/object/new:pcse.fileinput.yaml_agro_loader.YAMLAgroManagementReader\n",
            "listitems:\n",
            "- 2019-06-01:\n",
            "    CropCalendar:\n",
            "      crop_end_date: 2019-10-15\n",
            "      crop_end_type: harvest\n",
            "      crop_name: sugar-beet\n",
            "      crop_start_date: 2019-06-02\n",
            "      crop_start_type: emergence\n",
            "      max_duration: 300\n",
            "      variety_name: sugar-beet-601\n",
            "    StateEvents: null\n",
            "    TimedEvents:\n",
            "    - comment: All fertilizer amounts in kg/ha\n",
            "      event_signal: apply_npk\n",
            "      events_table:\n",
            "      - 2019-06-22:\n",
            "          K_amount: 122\n",
            "          N_amount: 128\n",
            "          P_amount: 25\n",
            "      name: Timed N/P/K application table\n",
            "\n"
          ],
          "name": "stdout"
        }
      ]
    },
    {
      "cell_type": "markdown",
      "metadata": {
        "id": "0Ca2c7k1DOG7",
        "colab_type": "text"
      },
      "source": [
        "We can create a crop rotation in the model\n"
      ]
    },
    {
      "cell_type": "code",
      "metadata": {
        "id": "v7dENZQ5uct3",
        "colab_type": "code",
        "colab": {}
      },
      "source": [
        "\"\"\"\n",
        "- 2001-03-01:\n",
        "    CropCalendar:\n",
        "        crop_name: maize\n",
        "        variety_name: fodder-maize\n",
        "        crop_start_date: 2001-04-15\n",
        "        crop_start_type: sowing\n",
        "        crop_end_date:\n",
        "        crop_end_type: maturity\n",
        "        max_duration: 200\n",
        "    TimedEvents:\n",
        "    -   event_signal: irrigate\n",
        "        name:  Timed irrigation events\n",
        "        comment: All irrigation amounts in cm\n",
        "        events_table:\n",
        "        - 2001-06-01: {irrigation_amount: 2.0}\n",
        "        - 2001-07-21: {irrigation_amount: 5.0}\n",
        "        - 2001-08-18: {irrigation_amount: 3.0}\n",
        "        - 2001-09-19: {irrigation_amount: 2.5}\n",
        "    -   event_signal: apply_npk\n",
        "        name:  Timed N/P/K application table\n",
        "        comment: All fertilizer amounts in kg/ha\n",
        "        events_table:\n",
        "        - 2001-05-25: {N_amount : 50, P_amount: 25, K_amount: 22}\n",
        "        - 2001-07-05: {N_amount : 70, P_amount: 35, K_amount: 32}\n",
        "    StateEvents:null\n",
        "    \"\"\""
      ],
      "execution_count": null,
      "outputs": []
    },
    {
      "cell_type": "code",
      "metadata": {
        "id": "cwwJNHKTff9g",
        "colab_type": "code",
        "colab": {
          "base_uri": "https://localhost:8080/",
          "height": 357
        },
        "outputId": "ecb59337-c890-410d-fd74-801d6d7244c2"
      },
      "source": [
        "K_kg = 60\n",
        "P_kg = 60\n",
        "N_kg = 120\n",
        "year_date_1 = 2000\n",
        "year_date=2017\n",
        "yaml_agro = f\"\"\"\n",
        "- {year_date}-05-01:\n",
        "    CropCalendar:\n",
        "        crop_name: 'sugar-beet'\n",
        "        variety_name: 'sugar-beet-601'\n",
        "        crop_start_date: {year_date}-05-20\n",
        "        crop_start_type: sowing\n",
        "        crop_end_date: \n",
        "        crop_end_type: maturity\n",
        "        max_duration: 250\n",
        "    TimedEvents:\n",
        "    -   event_signal: apply_npk\n",
        "        name:  Timed N/P/K application table\n",
        "        comment: All fertilizer amounts in kg/ha\n",
        "        events_table:\n",
        "        - {year_date}-06-22: {{N_amount : {N_kg}, P_amount: {P_kg}, K_amount: {K_kg}}}\n",
        "    StateEvents: null\n",
        "\"\"\"\n",
        "agromanagement = yaml.safe_load(yaml_agro)\n",
        "print(yaml_agro)\n",
        "#crop_end_date: {year_date_1}-11-15"
      ],
      "execution_count": null,
      "outputs": [
        {
          "output_type": "stream",
          "text": [
            "\n",
            "- 2017-05-01:\n",
            "    CropCalendar:\n",
            "        crop_name: 'sugar-beet'\n",
            "        variety_name: 'sugar-beet-601'\n",
            "        crop_start_date: 2017-05-20\n",
            "        crop_start_type: sowing\n",
            "        crop_end_date: \n",
            "        crop_end_type: maturity\n",
            "        max_duration: 250\n",
            "    TimedEvents:\n",
            "    -   event_signal: apply_npk\n",
            "        name:  Timed N/P/K application table\n",
            "        comment: All fertilizer amounts in kg/ha\n",
            "        events_table:\n",
            "        - 2017-06-22: {N_amount : 120, P_amount: 60, K_amount: 60}\n",
            "    StateEvents: null\n",
            "\n"
          ],
          "name": "stdout"
        }
      ]
    },
    {
      "cell_type": "markdown",
      "metadata": {
        "id": "bXZrl3QHff9j",
        "colab_type": "text"
      },
      "source": [
        "## Daily weather observations\n",
        "Daily weather variables are needed for running the simulation. There are several data providers in PCSE for reading weather data, see the section on [weather data providers](http://pcse.readthedocs.io/en/stable/reference_guide.html#weather-data-providers) to get an overview.\n",
        "\n",
        "For this example we will use weather data from an excel file which provides daily weather data for Wageningen for the period 2004 to 2008. We will read the data from the file using the ExcelWeatherDataProvider:"
      ]
    },
    {
      "cell_type": "markdown",
      "metadata": {
        "id": "t13-ERiZff9k",
        "colab_type": "text"
      },
      "source": [
        "### NASA Weather Data Provider from NASA [DataBase](https://power.larc.nasa.gov/)"
      ]
    },
    {
      "cell_type": "code",
      "metadata": {
        "id": "DRPk4bALff9k",
        "colab_type": "code",
        "colab": {}
      },
      "source": [
        "#NASA Weather system\n",
        "\n",
        "#Sometimes it doesnot work, upload excel file\n",
        "from pcse.db import NASAPowerWeatherDataProvider"
      ],
      "execution_count": null,
      "outputs": []
    },
    {
      "cell_type": "code",
      "metadata": {
        "id": "YQ5s1Xg0ff9n",
        "colab_type": "code",
        "colab": {}
      },
      "source": [
        "#export weather to list\n",
        "\n",
        "weather = NASAPowerWeatherDataProvider(51, 5, force_update=True)\n"
      ],
      "execution_count": null,
      "outputs": []
    },
    {
      "cell_type": "markdown",
      "metadata": {
        "id": "Cm-0b9X0ff9u",
        "colab_type": "text"
      },
      "source": [
        "## Importing, initializing and running a PCSE model\n",
        "\n",
        "Internally, PCSE uses a simulation engine to run a crop simulation. This engine takes a configuration file that specifies the components for the crop, the soil and the agromanagement that need to be used for the simulation. So any PCSE model can be started by importing the engine and initializing it with a given configuration file and the corresponding parameters, weather data and agromanagement.\n",
        "\n",
        "However, as many users of PCSE only need a particular configuration (for example the WOFOST model for potential production), preconfigured Engines are provided in `pcse.models`. For the sugarbeet example we will import the WOFOST model for water-limited simulation under freely draining soil conditions:"
      ]
    },
    {
      "cell_type": "code",
      "metadata": {
        "id": "sY_Nzqooff9x",
        "colab_type": "code",
        "colab": {
          "base_uri": "https://localhost:8080/",
          "height": 238
        },
        "outputId": "b52d2947-d0d5-4c14-9759-ec14492687a1"
      },
      "source": [
        "from pcse.models import Wofost71_WLP_FD\n",
        "wofsim = Wofost71_WLP_FD(parameters, weather, agromanagement)\n",
        "wofsim.run_till_terminate()\n",
        "df_results = pd.DataFrame(wofsim.get_output())\n",
        "df_results = df_results.set_index(\"day\")\n",
        "df_results.tail()"
      ],
      "execution_count": null,
      "outputs": [
        {
          "output_type": "execute_result",
          "data": {
            "text/html": [
              "<div>\n",
              "<style scoped>\n",
              "    .dataframe tbody tr th:only-of-type {\n",
              "        vertical-align: middle;\n",
              "    }\n",
              "\n",
              "    .dataframe tbody tr th {\n",
              "        vertical-align: top;\n",
              "    }\n",
              "\n",
              "    .dataframe thead th {\n",
              "        text-align: right;\n",
              "    }\n",
              "</style>\n",
              "<table border=\"1\" class=\"dataframe\">\n",
              "  <thead>\n",
              "    <tr style=\"text-align: right;\">\n",
              "      <th></th>\n",
              "      <th>DVS</th>\n",
              "      <th>LAI</th>\n",
              "      <th>TAGP</th>\n",
              "      <th>TWSO</th>\n",
              "      <th>TWLV</th>\n",
              "      <th>TWST</th>\n",
              "      <th>TWRT</th>\n",
              "      <th>TRA</th>\n",
              "      <th>RD</th>\n",
              "      <th>SM</th>\n",
              "      <th>WWLOW</th>\n",
              "    </tr>\n",
              "    <tr>\n",
              "      <th>day</th>\n",
              "      <th></th>\n",
              "      <th></th>\n",
              "      <th></th>\n",
              "      <th></th>\n",
              "      <th></th>\n",
              "      <th></th>\n",
              "      <th></th>\n",
              "      <th></th>\n",
              "      <th></th>\n",
              "      <th></th>\n",
              "      <th></th>\n",
              "    </tr>\n",
              "  </thead>\n",
              "  <tbody>\n",
              "    <tr>\n",
              "      <th>2017-10-18</th>\n",
              "      <td>1.974014</td>\n",
              "      <td>1.835032</td>\n",
              "      <td>15026.929031</td>\n",
              "      <td>11425.236324</td>\n",
              "      <td>1576.867308</td>\n",
              "      <td>2024.825399</td>\n",
              "      <td>1510.637632</td>\n",
              "      <td>0.077443</td>\n",
              "      <td>120.0</td>\n",
              "      <td>0.285257</td>\n",
              "      <td>34.230800</td>\n",
              "    </tr>\n",
              "    <tr>\n",
              "      <th>2017-10-19</th>\n",
              "      <td>1.982186</td>\n",
              "      <td>1.767827</td>\n",
              "      <td>15124.263881</td>\n",
              "      <td>11512.837689</td>\n",
              "      <td>1581.734050</td>\n",
              "      <td>2029.692142</td>\n",
              "      <td>1512.295944</td>\n",
              "      <td>0.113898</td>\n",
              "      <td>120.0</td>\n",
              "      <td>0.284645</td>\n",
              "      <td>34.157386</td>\n",
              "    </tr>\n",
              "    <tr>\n",
              "      <th>2017-10-20</th>\n",
              "      <td>1.991271</td>\n",
              "      <td>1.706132</td>\n",
              "      <td>15205.833376</td>\n",
              "      <td>11586.250234</td>\n",
              "      <td>1585.812525</td>\n",
              "      <td>2033.770616</td>\n",
              "      <td>1513.771929</td>\n",
              "      <td>0.071547</td>\n",
              "      <td>120.0</td>\n",
              "      <td>0.283741</td>\n",
              "      <td>34.048913</td>\n",
              "    </tr>\n",
              "    <tr>\n",
              "      <th>2017-10-21</th>\n",
              "      <td>1.998536</td>\n",
              "      <td>1.642232</td>\n",
              "      <td>15243.799727</td>\n",
              "      <td>11620.419951</td>\n",
              "      <td>1587.710843</td>\n",
              "      <td>2035.668934</td>\n",
              "      <td>1514.503668</td>\n",
              "      <td>0.126996</td>\n",
              "      <td>120.0</td>\n",
              "      <td>0.284684</td>\n",
              "      <td>34.162043</td>\n",
              "    </tr>\n",
              "    <tr>\n",
              "      <th>2017-10-22</th>\n",
              "      <td>2.000000</td>\n",
              "      <td>1.579179</td>\n",
              "      <td>15324.917499</td>\n",
              "      <td>11693.425945</td>\n",
              "      <td>1591.766731</td>\n",
              "      <td>2039.724823</td>\n",
              "      <td>1516.143676</td>\n",
              "      <td>0.071848</td>\n",
              "      <td>120.0</td>\n",
              "      <td>0.284029</td>\n",
              "      <td>34.083500</td>\n",
              "    </tr>\n",
              "  </tbody>\n",
              "</table>\n",
              "</div>"
            ],
            "text/plain": [
              "                 DVS       LAI          TAGP  ...     RD        SM      WWLOW\n",
              "day                                           ...                            \n",
              "2017-10-18  1.974014  1.835032  15026.929031  ...  120.0  0.285257  34.230800\n",
              "2017-10-19  1.982186  1.767827  15124.263881  ...  120.0  0.284645  34.157386\n",
              "2017-10-20  1.991271  1.706132  15205.833376  ...  120.0  0.283741  34.048913\n",
              "2017-10-21  1.998536  1.642232  15243.799727  ...  120.0  0.284684  34.162043\n",
              "2017-10-22  2.000000  1.579179  15324.917499  ...  120.0  0.284029  34.083500\n",
              "\n",
              "[5 rows x 11 columns]"
            ]
          },
          "metadata": {
            "tags": []
          },
          "execution_count": 73
        }
      ]
    },
    {
      "cell_type": "markdown",
      "metadata": {
        "id": "r4VvmP85ff9z",
        "colab_type": "text"
      },
      "source": [
        "We can then run the simulation and retrieve the time series of daily simulation output using the get_output() method on the WOFOST object. Finally, we convert the simulation results to a pandas dataframe:"
      ]
    },
    {
      "cell_type": "code",
      "metadata": {
        "id": "MPGc2hh-ff90",
        "colab_type": "code",
        "colab": {}
      },
      "source": [
        "summary_output = wofsim.get_summary_output()"
      ],
      "execution_count": null,
      "outputs": []
    },
    {
      "cell_type": "code",
      "metadata": {
        "id": "w15xwH84ff92",
        "colab_type": "code",
        "colab": {
          "base_uri": "https://localhost:8080/",
          "height": 300
        },
        "outputId": "6eba8cfa-2f9c-4708-9315-1a4c22cb5f08"
      },
      "source": [
        "wofsim.get_summary_output()"
      ],
      "execution_count": null,
      "outputs": [
        {
          "output_type": "execute_result",
          "data": {
            "text/plain": [
              "[{'CTRAT': 17.589144084399933,\n",
              "  'DOA': datetime.date(2017, 7, 8),\n",
              "  'DOE': datetime.date(2017, 5, 27),\n",
              "  'DOH': None,\n",
              "  'DOM': datetime.date(2017, 10, 22),\n",
              "  'DOS': datetime.date(2017, 5, 20),\n",
              "  'DOV': None,\n",
              "  'DVS': 2.0,\n",
              "  'LAIMAX': 2.621559537235757,\n",
              "  'RD': 120.0,\n",
              "  'TAGP': 15324.917498780354,\n",
              "  'TWLV': 1591.7667312492454,\n",
              "  'TWRT': 1516.143676336077,\n",
              "  'TWSO': 11693.425944916902,\n",
              "  'TWST': 2039.7248226142065}]"
            ]
          },
          "metadata": {
            "tags": []
          },
          "execution_count": 75
        }
      ]
    },
    {
      "cell_type": "code",
      "metadata": {
        "id": "zLg2UCSUff95",
        "colab_type": "code",
        "colab": {
          "base_uri": "https://localhost:8080/",
          "height": 36
        },
        "outputId": "a8b489ca-c378-47e9-aed7-1dc5adddc860"
      },
      "source": [
        "msg = \"Reached maturity at {DOM} with total biomass {TAGP} kg/ha \"\\\n",
        "\"and a yield of {TWSO} kg/ha.\"\n",
        "print(msg.format(**summary_output[0]))"
      ],
      "execution_count": null,
      "outputs": [
        {
          "output_type": "stream",
          "text": [
            "Reached maturity at 2017-10-22 with total biomass 15324.917498780354 kg/ha and a yield of 11693.425944916902 kg/ha.\n"
          ],
          "name": "stdout"
        }
      ]
    },
    {
      "cell_type": "markdown",
      "metadata": {
        "id": "UOsFYjiOff-o",
        "colab_type": "text"
      },
      "source": [
        "# Sensitivity analysis"
      ]
    },
    {
      "cell_type": "code",
      "metadata": {
        "id": "9ELzKKw6wy7T",
        "colab_type": "code",
        "colab": {
          "base_uri": "https://localhost:8080/",
          "height": 394
        },
        "outputId": "54a785c9-7d33-4269-b022-bffb647a8156"
      },
      "source": [
        "!pip install SALib"
      ],
      "execution_count": null,
      "outputs": [
        {
          "output_type": "stream",
          "text": [
            "Collecting SALib\n",
            "\u001b[?25l  Downloading https://files.pythonhosted.org/packages/f7/33/cee4d64f7c40f33c08cf5ef5c9b1fb5e51f194b5deceefb5567112800b70/SALib-1.3.11.tar.gz (856kB)\n",
            "\u001b[K     |████████████████████████████████| 860kB 3.3MB/s \n",
            "\u001b[?25hRequirement already satisfied: numpy in /usr/local/lib/python3.6/dist-packages (from SALib) (1.18.5)\n",
            "Requirement already satisfied: scipy in /usr/local/lib/python3.6/dist-packages (from SALib) (1.4.1)\n",
            "Requirement already satisfied: matplotlib in /usr/local/lib/python3.6/dist-packages (from SALib) (3.2.2)\n",
            "Requirement already satisfied: pandas in /usr/local/lib/python3.6/dist-packages (from SALib) (1.0.5)\n",
            "Requirement already satisfied: python-dateutil>=2.1 in /usr/local/lib/python3.6/dist-packages (from matplotlib->SALib) (2.8.1)\n",
            "Requirement already satisfied: pyparsing!=2.0.4,!=2.1.2,!=2.1.6,>=2.0.1 in /usr/local/lib/python3.6/dist-packages (from matplotlib->SALib) (2.4.7)\n",
            "Requirement already satisfied: cycler>=0.10 in /usr/local/lib/python3.6/dist-packages (from matplotlib->SALib) (0.10.0)\n",
            "Requirement already satisfied: kiwisolver>=1.0.1 in /usr/local/lib/python3.6/dist-packages (from matplotlib->SALib) (1.2.0)\n",
            "Requirement already satisfied: pytz>=2017.2 in /usr/local/lib/python3.6/dist-packages (from pandas->SALib) (2018.9)\n",
            "Requirement already satisfied: six>=1.5 in /usr/local/lib/python3.6/dist-packages (from python-dateutil>=2.1->matplotlib->SALib) (1.15.0)\n",
            "Building wheels for collected packages: SALib\n",
            "  Building wheel for SALib (setup.py) ... \u001b[?25l\u001b[?25hdone\n",
            "  Created wheel for SALib: filename=SALib-1.3.11-py2.py3-none-any.whl size=729665 sha256=93e720543725a20b1f31d6b4dcd5681574a59bb5c49e364a65b935ee9a92a0b0\n",
            "  Stored in directory: /root/.cache/pip/wheels/62/ed/f9/a0b98754ffb2191b98324b96cbbeb1bd5d9598b39ab996b429\n",
            "Successfully built SALib\n",
            "Installing collected packages: SALib\n",
            "Successfully installed SALib-1.3.11\n"
          ],
          "name": "stdout"
        }
      ]
    },
    {
      "cell_type": "code",
      "metadata": {
        "id": "gnfye784nEKx",
        "colab_type": "code",
        "colab": {}
      },
      "source": [
        "from SALib.sample import saltelli\n",
        "from SALib.analyze import sobol\n",
        "from SALib.test_functions import Ishigami\n",
        "import numpy as np"
      ],
      "execution_count": null,
      "outputs": []
    },
    {
      "cell_type": "markdown",
      "metadata": {
        "id": "8NA-bZpWQi0f",
        "colab_type": "text"
      },
      "source": [
        "__Docs [SALib](https://salib.readthedocs.io/en/latest/#)__"
      ]
    },
    {
      "cell_type": "markdown",
      "metadata": {
        "id": "l4W7QknHnRud",
        "colab_type": "text"
      },
      "source": [
        "In this example, we will perform a Sobol’ sensitivity analysis of the _Ishigami_ function, shown below. The _Ishigami_ function is commonly used to test uncertainty and sensitivity analysis methods because it exhibits strong nonlinearity and nonmonotonicity."
      ]
    },
    {
      "cell_type": "markdown",
      "metadata": {
        "id": "iUoSwcBJnE5n",
        "colab_type": "text"
      },
      "source": [
        "$f(x)=\\sin \\left(x_{1}\\right)+ \\text{a}\\, \\operatorname{sin}^{2}\\left(x_{2}\\right)+ \\text{b}\\,  x_{3}^{4} \\sin \\left(x_{1}\\right)$"
      ]
    },
    {
      "cell_type": "code",
      "metadata": {
        "id": "DBW4m3p8ff-u",
        "colab_type": "code",
        "colab": {}
      },
      "source": [
        "problem = {\n",
        "  'num_vars': 3,\n",
        "  'names': ['x1', 'x2', 'x3'],\n",
        "  'bounds': [[-np.pi, np.pi]]*3\n",
        "}"
      ],
      "execution_count": null,
      "outputs": []
    },
    {
      "cell_type": "code",
      "metadata": {
        "id": "sYxbSlYbsiyz",
        "colab_type": "code",
        "colab": {
          "base_uri": "https://localhost:8080/",
          "height": 36
        },
        "outputId": "43781abd-3325-48fd-fa3e-f0de80fe24bd"
      },
      "source": [
        "# Generate samples\n",
        "param_values = saltelli.sample(problem, 10, calc_second_order=True)\n",
        "param_values.shape"
      ],
      "execution_count": null,
      "outputs": [
        {
          "output_type": "execute_result",
          "data": {
            "text/plain": [
              "(80, 3)"
            ]
          },
          "metadata": {
            "tags": []
          },
          "execution_count": 80
        }
      ]
    },
    {
      "cell_type": "markdown",
      "metadata": {
        "id": "Vr5zlk3off-y",
        "colab_type": "text"
      },
      "source": [
        "Here, `param_values` is a NumPy matrix. If we run `param_values.shape`, we see that the matrix is **8000 by 3**. The Saltelli sampler generated 8000 samples. The Saltelli sampler generates $N∗(2D+2)$ samples, where in this example $N$ is 1000 (the argument we supplied) and $D$ is 3 (the number of model inputs). The keyword argument `calc_second_order=False` will exclude second-order indices, resulting in a smaller sample matrix with $N∗(D+2)$ rows instead.\n"
      ]
    },
    {
      "cell_type": "code",
      "metadata": {
        "id": "bQ9e0-w_ff-z",
        "colab_type": "code",
        "colab": {
          "base_uri": "https://localhost:8080/",
          "height": 187
        },
        "outputId": "0a6e2cd1-eb3b-4e96-ef44-96a5af1cf384"
      },
      "source": [
        "# Run model (example)\n",
        "Y = Ishigami.evaluate(param_values)\n",
        "\n",
        "# Perform analysis\n",
        "Si = sobol.analyze(problem, Y, print_to_console=True)\n",
        "# Returns a dictionary with keys 'S1', 'S1_conf', 'ST', and 'ST_conf'\n",
        "# (first and total-order indices with bootstrap confidence intervals)\n",
        "T_Si, first_Si, (idx, second_Si) = sobol.Si_to_pandas_dict(Si)"
      ],
      "execution_count": null,
      "outputs": [
        {
          "output_type": "stream",
          "text": [
            "Parameter S1 S1_conf ST ST_conf\n",
            "x1 -0.203434 0.660158 1.345837 2.206907\n",
            "x2 0.838328 0.650453 0.716922 0.567090\n",
            "x3 -0.592087 0.390549 0.459872 0.420236\n",
            "\n",
            "Parameter_1 Parameter_2 S2 S2_conf\n",
            "x1 x2 0.208665 1.159449\n",
            "x1 x3 1.165212 0.917190\n",
            "x2 x3 0.268558 0.759311\n"
          ],
          "name": "stdout"
        }
      ]
    },
    {
      "cell_type": "markdown",
      "metadata": {
        "id": "xb2Ag_6g_TAd",
        "colab_type": "text"
      },
      "source": [
        "Consider the model output as\n",
        "\\begin{eqnarray*}\n",
        "Y=f(X)=f\\left(X_{1}, \\ldots, X_{p}\\right),\n",
        "\\end{eqnarray*}\n",
        "where $f$ in our case part of agro-model simulator, $X$ are $p$ varied input parameters and $Y$ is the predicted output. Following the techniques by Sobol we represent the multi-variate random function $f$ using Hoeffding decomposition:\n",
        "\\begin{equation}\n",
        "f(X_1,\\dots,X_p) = f_0 + \\sum_i^p f_i + \\sum_i^p\\sum_{j>i}^p f_{ij} + \\dots + f_{1\\dots p},\n",
        "\\end{equation}\n",
        "where $f_0$ is a constant term, $f_i = f_i(X_i)$ denotes main effects, $f_{ij} = f_{ij}(X_i, X_j)$ and others describe higher-order interactions. These terms can be written as\n",
        "\\begin{equation*}\n",
        "\\begin{split}\n",
        "f_0 &= E(Y),\\\\\n",
        "f_i &= E_{X_{\\sim i}}(Y | X_i) - E(Y),\\\\\n",
        "f_{ij} &= E_{X_{\\sim ij}}(Y | X_i, X_j) - f_i - f_j - f_0,\\\\\n",
        "\\dots\n",
        "\\end{split}\n",
        "\\end{equation*}\n",
        "where $E$ is mathematical expectation and $X_{\\sim i}$ denotes all parameters except $i^\\text{th}$. Under the assumption that the input parameters are independent, total variance $V(Y)$ of the crop yield can be decomposed as follows:\n",
        "\\begin{equation*}\n",
        "V(Y) = \\sum_i^p V_i + \\sum_i^p\\sum_{j>i}^p V_{ij} + \\dots + V_{12\\dots p},\n",
        "\\end{equation*}\n",
        "where partial variances are\n",
        "\\begin{equation*}\n",
        "\\begin{split}\n",
        "V_i &= V[f_i(X_i)] = V_{X_i}\\left[E_{X_{\\sim i}}(Y | X_i)\\right],\\\\\n",
        "V_{ij} &= V[f_{ij}(X_i,X_j)] = V_{X_iX_j}\\left[E_{X_{\\sim ij}}(Y | X_i, X_j)\\right] - V_i - V_j,\\\\\n",
        "\\dots\n",
        "\\end{split}\n",
        "\\end{equation*}"
      ]
    },
    {
      "cell_type": "markdown",
      "metadata": {
        "id": "lRL6RZj6_kFd",
        "colab_type": "text"
      },
      "source": [
        "## Sobol index (first order, second order, total index)"
      ]
    },
    {
      "cell_type": "markdown",
      "metadata": {
        "id": "DaeCBQQF_b5f",
        "colab_type": "text"
      },
      "source": [
        "This way, sensitivity indices (SI) can be introduced as \n",
        "\\begin{equation}\n",
        "\\Large\n",
        "S_i = \\frac{V_i}{V(Y)},~S_{ij} = \\frac{V_{ij}}{V(Y)},~\\dots\n",
        "\\end{equation}\n",
        "In order to incorporate all of the interactions for a particular parameter, one can compute the total effect index:\n",
        "\\begin{equation}\n",
        "S_{T_i} = \\frac{E_{X_{\\sim i}}\\left[V_{X_i}(Y|X_{\\sim i})\\right]}{V(Y)} = 1 - \\frac{V_{X_{\\sim i}}\\left[E_{X_i}(Y | X_{\\sim i})\\right]}{V(Y)}\n",
        "\\end{equation}\n",
        "\n",
        "\n",
        "From this assumption we can conclude:\n",
        "\\begin{equation}\n",
        "\\Large\n",
        "0 \\leq S_i \\leq S_{T_i} \\leq 1\n",
        "\\end{equation}"
      ]
    },
    {
      "cell_type": "markdown",
      "metadata": {
        "id": "OvOlKSm9_t9m",
        "colab_type": "text"
      },
      "source": [
        "## Sobol’ Sequences versus Random numbers and regular grid\n"
      ]
    },
    {
      "cell_type": "markdown",
      "metadata": {
        "id": "Bu2X8L9N_o62",
        "colab_type": "text"
      },
      "source": [
        "<img src=\"http://drive.google.com/uc?export=view&id=1ezjA8aa50P08EUybwdDyo8JKCP7lU7zw\">"
      ]
    },
    {
      "cell_type": "markdown",
      "metadata": {
        "id": "UsQYE1mp_MvF",
        "colab_type": "text"
      },
      "source": [
        "## Modern Quasi-Random Sequences"
      ]
    },
    {
      "cell_type": "markdown",
      "metadata": {
        "id": "2_ySwBD2ff83",
        "colab_type": "text"
      },
      "source": [
        "<img src=\"http://drive.google.com/uc?export=view&id=1kG5oaUMB56a31Hw_NQiRR4ZLs5DyeINI\">\n",
        "\n"
      ]
    },
    {
      "cell_type": "markdown",
      "metadata": {
        "id": "JCKO1zaU_4Kk",
        "colab_type": "text"
      },
      "source": [
        "More -\n",
        "* [Wiki](https://en.wikipedia.org/wiki/Sobol_sequence)\n",
        "* [Habr](https://habr.com/ru/post/440892/)\n",
        "* Feature selection [Skoltech ML 2020](https://github.com/adasegroup/ML2020_lectures/blob/master/lecture9/Lecture_9_Model_Feature_Selection_Sensitivity.pdf)"
      ]
    },
    {
      "cell_type": "markdown",
      "metadata": {
        "id": "IM9HLmySff98",
        "colab_type": "text"
      },
      "source": [
        "# Sensitivity analysis of WOFOST model "
      ]
    },
    {
      "cell_type": "markdown",
      "metadata": {
        "id": "mBpW6Vi_81Ba",
        "colab_type": "text"
      },
      "source": [
        "<img src=\"http://drive.google.com/uc?export=view&id=1OPZ0xIFpc8Ku3wtt6XffKy2QKLashDWP\">"
      ]
    },
    {
      "cell_type": "markdown",
      "metadata": {
        "id": "c-49rOGJ7lzn",
        "colab_type": "text"
      },
      "source": [
        "## Install modules "
      ]
    },
    {
      "cell_type": "code",
      "metadata": {
        "id": "5XaP3X3Klszc",
        "colab_type": "code",
        "colab": {}
      },
      "source": [
        "  from SALib.sample import saltelli\n",
        "  from SALib.analyze import sobol\n",
        "  from SALib.test_functions import Ishigami\n",
        "  import numpy as np\n",
        "  import pandas as pd"
      ],
      "execution_count": null,
      "outputs": []
    },
    {
      "cell_type": "markdown",
      "metadata": {
        "id": "_VzU-hLD7smX",
        "colab_type": "text"
      },
      "source": [
        "## Parameters"
      ]
    },
    {
      "cell_type": "code",
      "metadata": {
        "id": "4qaOZXqoff99",
        "colab_type": "code",
        "colab": {}
      },
      "source": [
        "NPK = {\n",
        "    'num_vars':3,\n",
        "    'names':['N_kg', 'P_kg', 'K_kg'],\n",
        "    'bounds':[[30., 60.],\n",
        "              [60., 90.],\n",
        "              [100., 130.]]\n",
        "}"
      ],
      "execution_count": null,
      "outputs": []
    },
    {
      "cell_type": "code",
      "metadata": {
        "id": "qdNxHeRzff9_",
        "colab_type": "code",
        "colab": {}
      },
      "source": [
        "Soil_parameters = {\n",
        "  'num_vars':5,\n",
        "    'names':['SMV', 'SMFCF', 'SM0', 'CRAIRC', 'K0'],\n",
        "    'bounds':[[0.7, 1.3],\n",
        "              [0.1, 0.5],\n",
        "              [0.2, 0.6],\n",
        "             [0.04, 0.08],\n",
        "             [22.5, 27.5]]}"
      ],
      "execution_count": null,
      "outputs": []
    },
    {
      "cell_type": "markdown",
      "metadata": {
        "id": "EZAWCjDu7xVT",
        "colab_type": "text"
      },
      "source": [
        "## Generate input parameters"
      ]
    },
    {
      "cell_type": "markdown",
      "metadata": {
        "id": "fnpwRQ5eff-C",
        "colab_type": "text"
      },
      "source": [
        "<img src=\"http://drive.google.com/uc?export=view&id=1A5v1WOrapL79dARWdXdcuHuVL8rEJLDi\">\n"
      ]
    },
    {
      "cell_type": "code",
      "metadata": {
        "id": "cuput0rjff-C",
        "colab_type": "code",
        "colab": {}
      },
      "source": [
        "param_values = saltelli.sample(Soil_parameters, 10)"
      ],
      "execution_count": null,
      "outputs": []
    },
    {
      "cell_type": "markdown",
      "metadata": {
        "id": "Ha0_KvGHff-E",
        "colab_type": "text"
      },
      "source": [
        "$n = N \\times (D \\times 2 +2)$"
      ]
    },
    {
      "cell_type": "code",
      "metadata": {
        "id": "jwv9Lslkff-F",
        "colab_type": "code",
        "colab": {
          "base_uri": "https://localhost:8080/",
          "height": 36
        },
        "outputId": "be898344-e4ab-4636-b5ab-625ca5fde263"
      },
      "source": [
        "param_values.shape"
      ],
      "execution_count": null,
      "outputs": [
        {
          "output_type": "execute_result",
          "data": {
            "text/plain": [
              "(120, 5)"
            ]
          },
          "metadata": {
            "tags": []
          },
          "execution_count": 87
        }
      ]
    },
    {
      "cell_type": "markdown",
      "metadata": {
        "id": "S4wVilgyff-N",
        "colab_type": "text"
      },
      "source": [
        "## Loop for yield prediction"
      ]
    },
    {
      "cell_type": "code",
      "metadata": {
        "id": "debkME_Pff-K",
        "colab_type": "code",
        "colab": {}
      },
      "source": [
        "from pcse.fileinput import YAMLAgroManagementReader\n",
        "agromanagement_file = os.path.join(data_dir, 'agro', './sugarbeet_calendar.agro')\n",
        "agromanagement = YAMLAgroManagementReader(agromanagement_file)\n",
        "#print(agromanagement)\n",
        "Soil_parameters = {\n",
        "  'num_vars':5,\n",
        "    'names':['SMV', 'SMFCF', 'SM0', 'CRAIRC', 'K0'],\n",
        "    'bounds':[[0.7, 1.3],\n",
        "              [0.1, 0.5],\n",
        "              [0.2, 0.6],\n",
        "             [0.04, 0.08],\n",
        "             [22.5, 27.5]]}\n",
        "param_values = saltelli.sample(Soil_parameters, N=10, calc_second_order=True)"
      ],
      "execution_count": null,
      "outputs": []
    },
    {
      "cell_type": "markdown",
      "metadata": {
        "id": "sXZANXnDPc3r",
        "colab_type": "text"
      },
      "source": [
        "Soil parameters in [PCSE model](https://pcse.readthedocs.io/en/stable/code.html?highlight=K0#pcse.soil.WaterbalanceFD) "
      ]
    },
    {
      "cell_type": "code",
      "metadata": {
        "id": "2U3X6RkhAmkV",
        "colab_type": "code",
        "colab": {}
      },
      "source": [
        "def sensitivity_soil(soil_parameters):\n",
        "    SMV, SMFCF, SM0, CRAIRC, K0 = soil_parameters \n",
        "    soildata['SMV'] = SMV\n",
        "    soildata['SMFCF'] = SMFCF\n",
        "    soildata['SM0'] = SM0\n",
        "    soildata['CRAIRC'] = CRAIRC\n",
        "    soildata['K0'] = K0\n",
        "    parameters = ParameterProvider(cropdata=cropdata, soildata=soildata, sitedata=sitedata)\n",
        "    wofsim = Wofost71_WLP_FD(parameters, wdp, agromanagement)\n",
        "    wofsim.run_till_terminate()\n",
        "    #df_results = pd.DataFrame(wofsim.get_output())\n",
        "    #df_results = df_results.set_index(\"day\")\n",
        "    #df_results.tail()\n",
        "    summary_output = wofsim.get_summary_output()\n",
        "    yield_list.append(summary_output[0]['TWSO'])"
      ],
      "execution_count": null,
      "outputs": []
    },
    {
      "cell_type": "code",
      "metadata": {
        "id": "pZaHKfNlAs7s",
        "colab_type": "code",
        "colab": {
          "base_uri": "https://localhost:8080/",
          "height": 1000
        },
        "outputId": "77e6674c-8873-449b-bc7e-bb5ffda59134"
      },
      "source": [
        "%%time\n",
        "yield_list = []\n",
        "param_values = saltelli.sample(Soil_parameters, 10, calc_second_order=True)\n",
        "for step in range(len(param_values)):\n",
        "    sensitivity_soil(param_values[step])\n",
        "    print(param_values[step])"
      ],
      "execution_count": null,
      "outputs": [
        {
          "output_type": "stream",
          "text": [
            "[ 0.83183594  0.13867188  0.40742187  0.06707031 23.90136719]\n",
            "[ 1.24433594  0.13867188  0.40742187  0.06707031 23.90136719]\n",
            "[ 0.83183594  0.11835938  0.40742187  0.06707031 23.90136719]\n",
            "[ 0.83183594  0.13867188  0.55976563  0.06707031 23.90136719]\n",
            "[ 0.83183594  0.13867188  0.40742187  0.06003906 23.90136719]\n",
            "[ 0.83183594  0.13867188  0.40742187  0.06707031 22.84667969]\n",
            "[ 0.83183594  0.11835938  0.55976563  0.06003906 22.84667969]\n",
            "[ 1.24433594  0.13867188  0.55976563  0.06003906 22.84667969]\n",
            "[ 1.24433594  0.11835938  0.40742187  0.06003906 22.84667969]\n",
            "[ 1.24433594  0.11835938  0.55976563  0.06707031 22.84667969]\n",
            "[ 1.24433594  0.11835938  0.55976563  0.06003906 23.90136719]\n",
            "[ 1.24433594  0.11835938  0.55976563  0.06003906 22.84667969]\n",
            "[ 1.13183594  0.33867188  0.20742188  0.04707031 26.40136719]\n",
            "[ 0.94433594  0.33867188  0.20742188  0.04707031 26.40136719]\n",
            "[ 1.13183594  0.31835938  0.20742188  0.04707031 26.40136719]\n",
            "[ 1.13183594  0.33867188  0.35976562  0.04707031 26.40136719]\n",
            "[ 1.13183594  0.33867188  0.20742188  0.04003906 26.40136719]\n",
            "[ 1.13183594  0.33867188  0.20742188  0.04707031 25.34667969]\n",
            "[ 1.13183594  0.31835938  0.35976562  0.04003906 25.34667969]\n",
            "[ 0.94433594  0.33867188  0.35976562  0.04003906 25.34667969]\n",
            "[ 0.94433594  0.31835938  0.20742188  0.04003906 25.34667969]\n",
            "[ 0.94433594  0.31835938  0.35976562  0.04707031 25.34667969]\n",
            "[ 0.94433594  0.31835938  0.35976562  0.04003906 26.40136719]\n",
            "[ 0.94433594  0.31835938  0.35976562  0.04003906 25.34667969]\n",
            "[ 1.28183594  0.23867188  0.50742187  0.07707031 25.15136719]\n",
            "[ 0.79433594  0.23867188  0.50742187  0.07707031 25.15136719]\n",
            "[ 1.28183594  0.21835938  0.50742187  0.07707031 25.15136719]\n",
            "[ 1.28183594  0.23867188  0.25976562  0.07707031 25.15136719]\n",
            "[ 1.28183594  0.23867188  0.50742187  0.05003906 25.15136719]\n",
            "[ 1.28183594  0.23867188  0.50742187  0.07707031 26.59667969]\n",
            "[ 1.28183594  0.21835938  0.25976562  0.05003906 26.59667969]\n",
            "[ 0.79433594  0.23867188  0.25976562  0.05003906 26.59667969]\n",
            "[ 0.79433594  0.21835938  0.50742187  0.05003906 26.59667969]\n",
            "[ 0.79433594  0.21835938  0.25976562  0.07707031 26.59667969]\n",
            "[ 0.79433594  0.21835938  0.25976562  0.05003906 25.15136719]\n",
            "[ 0.79433594  0.21835938  0.25976562  0.05003906 26.59667969]\n",
            "[ 0.98183594  0.43867188  0.30742188  0.05707031 22.65136719]\n",
            "[ 1.09433594  0.43867188  0.30742188  0.05707031 22.65136719]\n",
            "[ 0.98183594  0.41835937  0.30742188  0.05707031 22.65136719]\n",
            "[ 0.98183594  0.43867188  0.45976563  0.05707031 22.65136719]\n",
            "[ 0.98183594  0.43867188  0.30742188  0.07003906 22.65136719]\n",
            "[ 0.98183594  0.43867188  0.30742188  0.05707031 24.09667969]\n",
            "[ 0.98183594  0.41835937  0.45976563  0.07003906 24.09667969]\n",
            "[ 1.09433594  0.43867188  0.45976563  0.07003906 24.09667969]\n",
            "[ 1.09433594  0.41835937  0.30742188  0.07003906 24.09667969]\n",
            "[ 1.09433594  0.41835937  0.45976563  0.05707031 24.09667969]\n",
            "[ 1.09433594  0.41835937  0.45976563  0.07003906 22.65136719]\n",
            "[ 1.09433594  0.41835937  0.45976563  0.07003906 24.09667969]\n",
            "[ 0.90683594  0.28867188  0.25742188  0.05207031 23.27636719]\n",
            "[ 1.16933594  0.28867188  0.25742188  0.05207031 23.27636719]\n",
            "[ 0.90683594  0.26835938  0.25742188  0.05207031 23.27636719]\n",
            "[ 0.90683594  0.28867188  0.20976563  0.05207031 23.27636719]\n",
            "[ 0.90683594  0.28867188  0.25742188  0.05503906 23.27636719]\n",
            "[ 0.90683594  0.28867188  0.25742188  0.05207031 25.97167969]\n",
            "[ 0.90683594  0.26835938  0.20976563  0.05503906 25.97167969]\n",
            "[ 1.16933594  0.28867188  0.20976563  0.05503906 25.97167969]\n",
            "[ 1.16933594  0.26835938  0.25742188  0.05503906 25.97167969]\n",
            "[ 1.16933594  0.26835938  0.20976563  0.05207031 25.97167969]\n",
            "[ 1.16933594  0.26835938  0.20976563  0.05503906 23.27636719]\n",
            "[ 1.16933594  0.26835938  0.20976563  0.05503906 25.97167969]\n",
            "[ 1.20683594  0.48867187  0.45742187  0.07207031 25.77636719]\n",
            "[ 0.86933594  0.48867187  0.45742187  0.07207031 25.77636719]\n",
            "[ 1.20683594  0.46835938  0.45742187  0.07207031 25.77636719]\n",
            "[ 1.20683594  0.48867187  0.40976563  0.07207031 25.77636719]\n",
            "[ 1.20683594  0.48867187  0.45742187  0.07503906 25.77636719]\n",
            "[ 1.20683594  0.48867187  0.45742187  0.07207031 23.47167969]\n",
            "[ 1.20683594  0.46835938  0.40976563  0.07503906 23.47167969]\n",
            "[ 0.86933594  0.48867187  0.40976563  0.07503906 23.47167969]\n",
            "[ 0.86933594  0.46835938  0.45742187  0.07503906 23.47167969]\n",
            "[ 0.86933594  0.46835938  0.40976563  0.07207031 23.47167969]\n",
            "[ 0.86933594  0.46835938  0.40976563  0.07503906 25.77636719]\n",
            "[ 0.86933594  0.46835938  0.40976563  0.07503906 23.47167969]\n",
            "[ 1.05683594  0.18867188  0.35742188  0.04207031 27.02636719]\n",
            "[ 0.71933594  0.18867188  0.35742188  0.04207031 27.02636719]\n",
            "[ 1.05683594  0.16835938  0.35742188  0.04207031 27.02636719]\n",
            "[ 1.05683594  0.18867188  0.50976562  0.04207031 27.02636719]\n",
            "[ 1.05683594  0.18867188  0.35742188  0.06503906 27.02636719]\n",
            "[ 1.05683594  0.18867188  0.35742188  0.04207031 24.72167969]\n",
            "[ 1.05683594  0.16835938  0.50976562  0.06503906 24.72167969]\n",
            "[ 0.71933594  0.18867188  0.50976562  0.06503906 24.72167969]\n",
            "[ 0.71933594  0.16835938  0.35742188  0.06503906 24.72167969]\n",
            "[ 0.71933594  0.16835938  0.50976562  0.04207031 24.72167969]\n",
            "[ 0.71933594  0.16835938  0.50976562  0.06503906 27.02636719]\n",
            "[ 0.71933594  0.16835938  0.50976562  0.06503906 24.72167969]\n",
            "[ 0.75683594  0.38867188  0.55742187  0.06207031 24.52636719]\n",
            "[ 1.01933594  0.38867188  0.55742187  0.06207031 24.52636719]\n",
            "[ 0.75683594  0.36835938  0.55742187  0.06207031 24.52636719]\n",
            "[ 0.75683594  0.38867188  0.30976562  0.06207031 24.52636719]\n",
            "[ 0.75683594  0.38867188  0.55742187  0.04503906 24.52636719]\n",
            "[ 0.75683594  0.38867188  0.55742187  0.06207031 27.22167969]\n",
            "[ 0.75683594  0.36835938  0.30976562  0.04503906 27.22167969]\n",
            "[ 1.01933594  0.38867188  0.30976562  0.04503906 27.22167969]\n",
            "[ 1.01933594  0.36835938  0.55742187  0.04503906 27.22167969]\n",
            "[ 1.01933594  0.36835938  0.30976562  0.06207031 27.22167969]\n",
            "[ 1.01933594  0.36835938  0.30976562  0.04503906 24.52636719]\n",
            "[ 1.01933594  0.36835938  0.30976562  0.04503906 27.22167969]\n",
            "[ 0.73808594  0.17617188  0.21992188  0.05832031 25.62011719]\n",
            "[ 0.85058594  0.17617188  0.21992188  0.05832031 25.62011719]\n",
            "[ 0.73808594  0.48085937  0.21992188  0.05832031 25.62011719]\n",
            "[ 0.73808594  0.17617188  0.52226562  0.05832031 25.62011719]\n",
            "[ 0.73808594  0.17617188  0.21992188  0.04128906 25.62011719]\n",
            "[ 0.73808594  0.17617188  0.21992188  0.05832031 24.56542969]\n",
            "[ 0.73808594  0.48085937  0.52226562  0.04128906 24.56542969]\n",
            "[ 0.85058594  0.17617188  0.52226562  0.04128906 24.56542969]\n",
            "[ 0.85058594  0.48085937  0.21992188  0.04128906 24.56542969]\n",
            "[ 0.85058594  0.48085937  0.52226562  0.05832031 24.56542969]\n",
            "[ 0.85058594  0.48085937  0.52226562  0.04128906 25.62011719]\n",
            "[ 0.85058594  0.48085937  0.52226562  0.04128906 24.56542969]\n",
            "[ 1.03808594  0.37617188  0.41992188  0.07832031 23.12011719]\n",
            "[ 1.15058594  0.37617188  0.41992188  0.07832031 23.12011719]\n",
            "[ 1.03808594  0.28085938  0.41992188  0.07832031 23.12011719]\n",
            "[ 1.03808594  0.37617188  0.32226562  0.07832031 23.12011719]\n",
            "[ 1.03808594  0.37617188  0.41992188  0.06128906 23.12011719]\n",
            "[ 1.03808594  0.37617188  0.41992188  0.07832031 27.06542969]\n",
            "[ 1.03808594  0.28085938  0.32226562  0.06128906 27.06542969]\n",
            "[ 1.15058594  0.37617188  0.32226562  0.06128906 27.06542969]\n",
            "[ 1.15058594  0.28085938  0.41992188  0.06128906 27.06542969]\n",
            "[ 1.15058594  0.28085938  0.32226562  0.07832031 27.06542969]\n",
            "[ 1.15058594  0.28085938  0.32226562  0.06128906 23.12011719]\n",
            "[ 1.15058594  0.28085938  0.32226562  0.06128906 27.06542969]\n",
            "CPU times: user 1min 21s, sys: 229 ms, total: 1min 21s\n",
            "Wall time: 1min 21s\n"
          ],
          "name": "stdout"
        }
      ]
    },
    {
      "cell_type": "code",
      "metadata": {
        "id": "-MJQX33IMZh9",
        "colab_type": "code",
        "colab": {}
      },
      "source": [
        "np_yield = np.array(yield_list)\n",
        "Si = sobol.analyze(Soil_parameters, np_yield, print_to_console=False)"
      ],
      "execution_count": null,
      "outputs": []
    },
    {
      "cell_type": "code",
      "metadata": {
        "id": "dLlY6CSpff-g",
        "colab_type": "code",
        "colab": {
          "base_uri": "https://localhost:8080/",
          "height": 206
        },
        "outputId": "3fd9db37-0422-49b0-9c28-9434aa780085"
      },
      "source": [
        "Si_dict = dict(Si) \n",
        "Si_df = pd.DataFrame()\n",
        "Si_df = Si_df.append(pd.Series(Si_dict['S1']), ignore_index=True)\n",
        "Si_df = Si_df.append(pd.Series(Si_dict['ST']), ignore_index=True)\n",
        "Si_df = Si_df.append(pd.Series(Si_dict['S1_conf']), ignore_index=True)\n",
        "Si_df = Si_df.append(pd.Series(Si_dict['ST_conf']), ignore_index=True)\n",
        "Si_df = Si_df.T\n",
        "Si_df.columns = ['Si', 'ST', 'Si_conf', 'ST_conf']\n",
        "Si_df.rename(index={0:'SMV',1:'SMFCF', 2:'SM0', 3:'CRAIRC', 4:'K0'}, inplace=True)\n",
        "Si_df"
      ],
      "execution_count": null,
      "outputs": [
        {
          "output_type": "execute_result",
          "data": {
            "text/html": [
              "<div>\n",
              "<style scoped>\n",
              "    .dataframe tbody tr th:only-of-type {\n",
              "        vertical-align: middle;\n",
              "    }\n",
              "\n",
              "    .dataframe tbody tr th {\n",
              "        vertical-align: top;\n",
              "    }\n",
              "\n",
              "    .dataframe thead th {\n",
              "        text-align: right;\n",
              "    }\n",
              "</style>\n",
              "<table border=\"1\" class=\"dataframe\">\n",
              "  <thead>\n",
              "    <tr style=\"text-align: right;\">\n",
              "      <th></th>\n",
              "      <th>Si</th>\n",
              "      <th>ST</th>\n",
              "      <th>Si_conf</th>\n",
              "      <th>ST_conf</th>\n",
              "    </tr>\n",
              "  </thead>\n",
              "  <tbody>\n",
              "    <tr>\n",
              "      <th>SMV</th>\n",
              "      <td>0.000000</td>\n",
              "      <td>0.000000</td>\n",
              "      <td>0.000000</td>\n",
              "      <td>0.000000</td>\n",
              "    </tr>\n",
              "    <tr>\n",
              "      <th>SMFCF</th>\n",
              "      <td>-0.077417</td>\n",
              "      <td>0.284878</td>\n",
              "      <td>0.839456</td>\n",
              "      <td>0.638290</td>\n",
              "    </tr>\n",
              "    <tr>\n",
              "      <th>SM0</th>\n",
              "      <td>0.267504</td>\n",
              "      <td>0.381437</td>\n",
              "      <td>0.693409</td>\n",
              "      <td>0.688329</td>\n",
              "    </tr>\n",
              "    <tr>\n",
              "      <th>CRAIRC</th>\n",
              "      <td>0.000000</td>\n",
              "      <td>0.000000</td>\n",
              "      <td>0.000000</td>\n",
              "      <td>0.000000</td>\n",
              "    </tr>\n",
              "    <tr>\n",
              "      <th>K0</th>\n",
              "      <td>0.000000</td>\n",
              "      <td>0.000000</td>\n",
              "      <td>0.000000</td>\n",
              "      <td>0.000000</td>\n",
              "    </tr>\n",
              "  </tbody>\n",
              "</table>\n",
              "</div>"
            ],
            "text/plain": [
              "              Si        ST   Si_conf   ST_conf\n",
              "SMV     0.000000  0.000000  0.000000  0.000000\n",
              "SMFCF  -0.077417  0.284878  0.839456  0.638290\n",
              "SM0     0.267504  0.381437  0.693409  0.688329\n",
              "CRAIRC  0.000000  0.000000  0.000000  0.000000\n",
              "K0      0.000000  0.000000  0.000000  0.000000"
            ]
          },
          "metadata": {
            "tags": []
          },
          "execution_count": 101
        }
      ]
    },
    {
      "cell_type": "markdown",
      "metadata": {
        "id": "TIeMDNzga2_y",
        "colab_type": "text"
      },
      "source": [
        "Is it ok?"
      ]
    },
    {
      "cell_type": "markdown",
      "metadata": {
        "id": "QqllR3h_RK7d",
        "colab_type": "text"
      },
      "source": [
        "\n",
        "\\begin{equation}\n",
        "\\Large\n",
        "0 \\leq S_i \\leq S_{T_i} \\leq 1\n",
        "\\end{equation}"
      ]
    },
    {
      "cell_type": "markdown",
      "metadata": {
        "id": "1r0uLC55PHwZ",
        "colab_type": "text"
      },
      "source": [
        "### For 5 years"
      ]
    },
    {
      "cell_type": "code",
      "metadata": {
        "id": "_LMDwLrlPG4a",
        "colab_type": "code",
        "colab": {}
      },
      "source": [
        "def sensitivity_weather(year):\n",
        "    K_kg = 60\n",
        "    P_kg = 60\n",
        "    N_kg = 120\n",
        "    year_date=year\n",
        "    print(year)\n",
        "    print(year_date)\n",
        "    yaml_agro = f\"\"\"\n",
        "    - {year_date}-06-01:\n",
        "        CropCalendar:\n",
        "            crop_name: 'sugar-beet'\n",
        "            variety_name: 'sugar-beet-601'\n",
        "            crop_start_date: {year_date}-06-02\n",
        "            crop_start_type: emergence\n",
        "            crop_end_date: {year_date}-10-15\n",
        "            crop_end_type: harvest\n",
        "            max_duration: 300\n",
        "        TimedEvents:\n",
        "        -   event_signal: apply_npk\n",
        "            name:  Timed N/P/K application table\n",
        "            comment: All fertilizer amounts in kg/ha\n",
        "            events_table:\n",
        "            - {year_date}-06-22: {{N_amount : {N_kg}, P_amount: {P_kg}, K_amount: {K_kg}}}\n",
        "        StateEvents: null\n",
        "        \"\"\"\n",
        "    agromanagement = yaml.safe_load(yaml_agro)\n",
        "    parameters = ParameterProvider(cropdata=cropdata, soildata=soildata, sitedata=sitedata)\n",
        "    wofsim = Wofost71_WLP_FD(parameters, moscow_weather, agromanagement)\n",
        "    wofsim.run_till_terminate()\n",
        "    summary_output = wofsim.get_summary_output()\n",
        "    yield_list_weather.append(summary_output[0]['TWSO'])"
      ],
      "execution_count": null,
      "outputs": []
    },
    {
      "cell_type": "markdown",
      "metadata": {
        "id": "sM-c_XOiff-l",
        "colab_type": "text"
      },
      "source": [
        "## Visualizing simulation results"
      ]
    },
    {
      "cell_type": "markdown",
      "metadata": {
        "id": "spvJpQpcff-l",
        "colab_type": "text"
      },
      "source": [
        "Finally, we can generate some figures of WOFOST variables such as the development (DVS), total biomass (TAGP), leaf area index (LAI) and root-zone soil moisture (SM) using the MatPlotLib plotting package:"
      ]
    },
    {
      "cell_type": "code",
      "metadata": {
        "id": "a3CbHXX5ff-m",
        "colab_type": "code",
        "colab": {
          "base_uri": "https://localhost:8080/",
          "height": 574
        },
        "outputId": "ed816e35-ad01-4757-b7e2-6162b053d5cf"
      },
      "source": [
        "fig, axes = plt.subplots(nrows=2, ncols=2, figsize=(12,10))\n",
        "for var, ax in zip([\"DVS\", \"TWSO\", \"LAI\", \"SM\"], axes.flatten()):\n",
        "    ax.plot_date(df_results.index, df_results[var], 'b-')\n",
        "    ax.set_title(var)\n",
        "fig.autofmt_xdate()"
      ],
      "execution_count": null,
      "outputs": [
        {
          "output_type": "display_data",
          "data": {
            "image/png": "[encoded data removed]",
            "text/plain": [
              "<Figure size 864x720 with 4 Axes>"
            ]
          },
          "metadata": {
            "tags": []
          }
        }
      ]
    },
    {
      "cell_type": "markdown",
      "metadata": {
        "id": "PaaUpFfQff-2",
        "colab_type": "text"
      },
      "source": [
        "# Visualization for sensitivity analysis"
      ]
    },
    {
      "cell_type": "markdown",
      "metadata": {
        "id": "xyAx8-8Fff-4",
        "colab_type": "text"
      },
      "source": [
        "Plots by [Water programming group](https://waterprogramming.wordpress.com/2019/08/27/a-python-implementation-of-grouped-radial-convergence-plots-to-visualize-sobol-sensitivity-analysis-results/)"
      ]
    },
    {
      "cell_type": "markdown",
      "metadata": {
        "id": "5CbapN-Off-2",
        "colab_type": "text"
      },
      "source": [
        "How to repeat: [Repo of SampleVIS](https://github.com/charlesrouge/SampleVis)"
      ]
    },
    {
      "cell_type": "code",
      "metadata": {
        "id": "qdag8yBlff-4",
        "colab_type": "code",
        "colab": {}
      },
      "source": [
        "import numpy as np\n",
        "from SALib.analyze import sobol\n",
        "from SALib.sample import saltelli\n",
        "from fishery import fish_game\n",
        "import matplotlib.pyplot as plt\n",
        "import itertools\n",
        "import math"
      ],
      "execution_count": null,
      "outputs": []
    },
    {
      "cell_type": "markdown",
      "metadata": {
        "id": "TkyL56lTff-6",
        "colab_type": "text"
      },
      "source": [
        "### Why number of samples is important?"
      ]
    },
    {
      "cell_type": "code",
      "metadata": {
        "id": "mcLu7IlTff-7",
        "colab_type": "code",
        "colab": {
          "base_uri": "https://localhost:8080/",
          "height": 1000
        },
        "outputId": "16c68f29-eb6e-4674-b9bf-57ad321aad61"
      },
      "source": [
        "# Set up dictionary with system parameters\n",
        "problem = {\n",
        "  'num_vars': 6,\n",
        "  'names': ['a', 'b', 'c','h',\n",
        "            'K','m'],\n",
        "  'bounds': [[ 0.002, 2],\n",
        "             [0.005, 1],\n",
        "             [0.2, 1],\n",
        "             [0.001, 1],\n",
        "             [100, 5000],\n",
        "             [0.1, 1.5]]\n",
        "}\n",
        "\n",
        "# Array with n's to use\n",
        "nsamples = np.arange(50, 500, 50)\n",
        "\n",
        "# Arrays to store the index estimates\n",
        "S1_estimates = np.zeros([problem['num_vars'],len(nsamples)])\n",
        "ST_estimates = np.zeros([problem['num_vars'],len(nsamples)])\n",
        "\n",
        "# Loop through all n values, create sample, evaluate model and estimate S1 & ST\n",
        "for i in range(len(nsamples)):\n",
        "    print('n= '+ str(nsamples[i]))\n",
        "    # Generate samples\n",
        "    sampleset = saltelli.sample(problem, nsamples[i],calc_second_order=False)\n",
        "    # Run model for all samples\n",
        "    output = [fish_game(*sampleset[j,:]) for j in range(len(sampleset))]\n",
        "    # Perform analysis\n",
        "    results = sobol.analyze(problem, np.asarray(output), calc_second_order=False,print_to_console=False)\n",
        "    # Store estimates\n",
        "    ST_estimates[:,i]=results['ST']\n",
        "    S1_estimates[:,i]=results['S1']\n",
        "\n",
        "np.save('ST_estimates.npy', ST_estimates)\n",
        "np.save('S1_estimates.npy', S1_estimates)\n",
        "\n",
        "S1_estimates = np.load('S1_estimates.npy')\n",
        "ST_estimates = np.load('ST_estimates.npy')\n",
        "\n",
        "# Generate figure showing evolution of indices\n",
        "fig =  plt.figure(figsize=(18,9))\n",
        "ax1 = fig.add_subplot(1,2,1)\n",
        "handles = []\n",
        "for j in range(problem['num_vars']):\n",
        "    handles += ax1.plot(nsamples, S1_estimates[j,:], linewidth=5)\n",
        "ax1.set_title('Evolution of S1 index estimates', fontsize=20)\n",
        "ax1.set_ylabel('S1', fontsize=18)\n",
        "ax1.set_xlabel('Number of samples (n)', fontsize=18)\n",
        "ax1.tick_params(axis='both', which='major', labelsize=14)\n",
        "ax2 = fig.add_subplot(1,2,2)\n",
        "for j in range(problem['num_vars']):\n",
        "    ax2.plot(nsamples, ST_estimates[j,:], linewidth=5)\n",
        "ax2.set_title('Evolution of ST index estimates', fontsize=20)\n",
        "ax2.set_ylabel('ST', fontsize=18)\n",
        "ax2.tick_params(axis='both', which='major', labelsize=14)\n",
        "ax2.set_xlabel('Number of samples (n)', fontsize=18)\n",
        "fig.legend(handles, problem['names'], loc = 'right', fontsize=11)\n",
        "plt.show()\n",
        "#plt.savefig('indexevolution.png')\n",
        "\n",
        "# Calculate parameter rankings\n",
        "S1_ranks = np.zeros_like(S1_estimates)\n",
        "ST_ranks = np.zeros_like(ST_estimates)\n",
        "for i in range(len(nsamples)):\n",
        "    orderS1 = np.argsort(S1_estimates[:,i])\n",
        "    orderST = np.argsort(ST_estimates[:,i])\n",
        "    S1_ranks[:,i] = orderS1.argsort()\n",
        "    ST_ranks[:,i] = orderST.argsort()\n",
        "    \n",
        "# Generate figure showing evolution of ranks\n",
        "fig =  plt.figure(figsize=(18,9))\n",
        "ax1 = fig.add_subplot(1,2,1)\n",
        "handles = []\n",
        "for j in range(problem['num_vars']):\n",
        "    handles += ax1.plot(nsamples, S1_ranks[j,:], linewidth=3)\n",
        "ax1.set_title('Parameter ranking based on S1', fontsize=20)\n",
        "ax1.set_ylabel('S1', fontsize=18)\n",
        "ax1.set_xlabel('Number of samples (n)', fontsize=18)\n",
        "ax1.set_yticklabels(np.arange(problem['num_vars']+1, 0, -1))\n",
        "ax1.tick_params(axis='both', which='major', labelsize=14)\n",
        "ax2 = fig.add_subplot(1,2,2)\n",
        "for j in range(problem['num_vars']):\n",
        "    ax2.plot(nsamples, ST_ranks[j,:], linewidth=3)\n",
        "ax2.set_title('Parameter ranking based on ST', fontsize=20)\n",
        "ax2.set_ylabel('ST', fontsize=18)\n",
        "ax2.set_yticklabels(np.arange(problem['num_vars']+1, 0, -1))\n",
        "ax2.tick_params(axis='both', which='major', labelsize=14)\n",
        "ax2.set_xlabel('Number of samples (n)', fontsize=18)\n",
        "fig.legend(handles, problem['names'], loc = 'right', fontsize=14)\n",
        "#plt.show()\n",
        "#plt.savefig('rankingevolution.png')"
      ],
      "execution_count": null,
      "outputs": [
        {
          "output_type": "stream",
          "text": [
            "n= 50\n",
            "n= 100\n",
            "n= 150\n",
            "n= 200\n",
            "n= 250\n",
            "n= 300\n",
            "n= 350\n",
            "n= 400\n",
            "n= 450\n"
          ],
          "name": "stdout"
        },
        {
          "output_type": "display_data",
          "data": {
            "image/png": "[encoded data removed]",
            "text/plain": [
              "<Figure size 1296x648 with 2 Axes>"
            ]
          },
          "metadata": {
            "tags": []
          }
        },
        {
          "output_type": "execute_result",
          "data": {
            "text/plain": [
              "<matplotlib.legend.Legend at 0x7fedab9275f8>"
            ]
          },
          "metadata": {
            "tags": []
          },
          "execution_count": 107
        },
        {
          "output_type": "display_data",
          "data": {
            "image/png": "[encoded data removed]",
            "text/plain": [
              "<Figure size 1296x648 with 2 Axes>"
            ]
          },
          "metadata": {
            "tags": []
          }
        }
      ]
    },
    {
      "cell_type": "markdown",
      "metadata": {
        "id": "-1Lblvnvff-9",
        "colab_type": "text"
      },
      "source": [
        "## Radial plot for SA"
      ]
    },
    {
      "cell_type": "code",
      "metadata": {
        "id": "5Oa37UTOff-9",
        "colab_type": "code",
        "colab": {}
      },
      "source": [
        "import numpy as np\n",
        "import itertools\n",
        "import matplotlib.pyplot as plt\n",
        "import seaborn as sns\n",
        "import math\n",
        "from numpy import genfromtxt\n",
        "import matplotlib.patches as mpatches\n",
        "import matplotlib.pyplot as plt\n",
        "sns.set_style('whitegrid', {'axes_linewidth': 0, 'axes.edgecolor': 'white'})"
      ],
      "execution_count": null,
      "outputs": []
    },
    {
      "cell_type": "markdown",
      "metadata": {
        "id": "lCM69eEq-Qh1",
        "colab_type": "text"
      },
      "source": [
        "## Plot function"
      ]
    },
    {
      "cell_type": "code",
      "metadata": {
        "id": "B6J2tyLAff-_",
        "colab_type": "code",
        "colab": {}
      },
      "source": [
        "def is_significant(value, confidence_interval, threshold=\"conf\"):\n",
        "    if threshold == \"conf\":\n",
        "        return value - abs(confidence_interval) > 0\n",
        "    else:\n",
        "        return value - abs(float(threshold)) > 0\n",
        " \n",
        "def grouped_radial(SAresults, parameters, radSc=2.0, scaling=1, widthSc=0.5, STthick=1, varNameMult=1.3, colors=None, groups=None, gpNameMult=1.5, threshold=\"conf\"):\n",
        "    # Derived from https://github.com/calvinwhealton/SensitivityAnalysisPlots\n",
        "    fig, ax = plt.subplots(1, 1)\n",
        "    color_map = {}\n",
        "     \n",
        "    # initialize parameters and colors\n",
        "    if groups is None:\n",
        "         \n",
        "        if colors is None:\n",
        "            colors = [\"k\"]\n",
        "         \n",
        "        for i, parameter in enumerate(parameters):\n",
        "            color_map[parameter] = colors[i % len(colors)]\n",
        "    else:        \n",
        "        if colors is None:\n",
        "            colors = sns.color_palette(\"deep\", max(3, len(groups)))\n",
        "         \n",
        "        for i, key in enumerate(groups.keys()):\n",
        "            #parameters.extend(groups[key])\n",
        "             \n",
        "            for parameter in groups[key]:\n",
        "                color_map[parameter] = colors[i % len(colors)]\n",
        "     \n",
        "    n = len(parameters)\n",
        "    angles = radSc*math.pi*np.arange(0, n)/n\n",
        "    x = radSc*np.cos(angles)\n",
        "    y = radSc*np.sin(angles)\n",
        "     \n",
        "    # plot second-order indices\n",
        "    for i, j in itertools.combinations(range(n), 2):\n",
        "        #key1 = parameters[i]\n",
        "        #key2 = parameters[j]\n",
        "         \n",
        "        if is_significant(SAresults[\"S2\"][i][j], SAresults[\"S2_conf\"][i][j], threshold):\n",
        "            angle = math.atan((y[j]-y[i])/(x[j]-x[i]))\n",
        "                 \n",
        "            if y[j]-y[i] < 0:\n",
        "                angle += math.pi\n",
        "                 \n",
        "            line_hw = scaling*(max(0, SAresults[\"S2\"][i][j])**widthSc)/2\n",
        "                 \n",
        "            coords = np.empty((4, 2))\n",
        "            coords[0, 0] = x[i] - line_hw*math.sin(angle)\n",
        "            coords[1, 0] = x[i] + line_hw*math.sin(angle)\n",
        "            coords[2, 0] = x[j] + line_hw*math.sin(angle)\n",
        "            coords[3, 0] = x[j] - line_hw*math.sin(angle)\n",
        "            coords[0, 1] = y[i] + line_hw*math.cos(angle)\n",
        "            coords[1, 1] = y[i] - line_hw*math.cos(angle)\n",
        "            coords[2, 1] = y[j] - line_hw*math.cos(angle)\n",
        "            coords[3, 1] = y[j] + line_hw*math.cos(angle)\n",
        " \n",
        "            ax.add_artist(plt.Polygon(coords, color=\"0.75\"))\n",
        "         \n",
        "    # plot total order indices\n",
        "    for i, key in enumerate(parameters):\n",
        "        if is_significant(SAresults[\"ST\"][i], SAresults[\"ST_conf\"][i], threshold):\n",
        "            ax.add_artist(plt.Circle((x[i], y[i]), scaling*(SAresults[\"ST\"][i]**widthSc)/2, color='w'))\n",
        "            ax.add_artist(plt.Circle((x[i], y[i]), scaling*(SAresults[\"ST\"][i]**widthSc)/2, lw=STthick, color='0.4', fill=False))\n",
        "     \n",
        "    # plot first-order indices\n",
        "    for i, key in enumerate(parameters):\n",
        "        if is_significant(SAresults[\"S1\"][i], SAresults[\"S1_conf\"][i], threshold):\n",
        "            ax.add_artist(plt.Circle((x[i], y[i]), scaling*(SAresults[\"S1\"][i]**widthSc)/2, color='0.4'))\n",
        "            \n",
        "    # add labels\n",
        "    for i, key in enumerate(parameters):                \n",
        "        ax.text(varNameMult*x[i], varNameMult*y[i], key, ha='center', va='center',\n",
        "                rotation=angles[i]*360/(2*math.pi) - 90,\n",
        "                color=color_map[key])\n",
        "         \n",
        "    if groups is not None:\n",
        "        for i, group in enumerate(groups.keys()):\n",
        "            print(group)\n",
        "            group_angle = np.mean([angles[j] for j in range(n) if parameters[j] in groups[group]])\n",
        "             \n",
        "            ax.text(gpNameMult*radSc*math.cos(group_angle), gpNameMult*radSc*math.sin(group_angle), group, ha='center', va='center',\n",
        "                rotation=group_angle*360/(2*math.pi) - 90,\n",
        "                color=colors[i % len(colors)])\n",
        "             \n",
        "    ax.set_facecolor('white')\n",
        "    ax.set_xticks([])\n",
        "    ax.set_yticks([])\n",
        "#     ax.\n",
        "    plt.axis('equal')\n",
        "    plt.axis([-2*radSc, 2*radSc, -2*radSc, 2*radSc])\n",
        "    #plt.show()\n",
        " \n",
        "     \n",
        "    return fig"
      ],
      "execution_count": null,
      "outputs": []
    },
    {
      "cell_type": "markdown",
      "metadata": {
        "id": "mkmi-0-vff_C",
        "colab_type": "text"
      },
      "source": [
        "## Range of soil parameters"
      ]
    },
    {
      "cell_type": "code",
      "metadata": {
        "id": "EbKdSoihff_C",
        "colab_type": "code",
        "colab": {}
      },
      "source": [
        "problem = {\n",
        "    'num_vars':6,\n",
        "    'names':['SOC', 'Sand', 'Clay', 'pH', 'CN', 'BD'],\n",
        "    'bounds':[[2.58, 6.20],\n",
        "              [0.01, 0.30],\n",
        "              [0.01, 0.30],\n",
        "              [4.6, 6.9],\n",
        "              [10.9, 12.4],\n",
        "              [900, 1350]]\n",
        "}"
      ],
      "execution_count": null,
      "outputs": []
    },
    {
      "cell_type": "code",
      "metadata": {
        "id": "OOz0S62Off_F",
        "colab_type": "code",
        "colab": {}
      },
      "source": [
        "#names for csv files\n",
        "list_of_csv=['soybean-000-2015.csv', 'sugar-beet-2011.csv', 'sugar-beet-2017.csv',\n",
        "'spring-barley-2012.csv', 'sugar-beet-2014.csv']\n",
        "list_of_names=['soybean-000-2015', 'sugar-beat-2011', 'sugar-beat-2017',\n",
        "'spring-barley-2012', 'sugar-beat-2014']\n",
        "list_of_totals=['total_SI_'+x for x in list_of_names]\n",
        "list_of_first=['fisrt_SI_'+x for x in list_of_names]\n",
        "list_of_second=['second_SI_'+x for x in list_of_names]\n",
        "list_of_SI=['SI_'+x for x in list_of_names]"
      ],
      "execution_count": null,
      "outputs": []
    },
    {
      "cell_type": "code",
      "metadata": {
        "id": "gz3hUbeuff_I",
        "colab_type": "code",
        "colab": {
          "base_uri": "https://localhost:8080/",
          "height": 111
        },
        "outputId": "5917f0ad-5554-4761-8bdc-80d47d9d59b8"
      },
      "source": [
        "for j, i in enumerate(list_of_csv):\n",
        "        all_data_csv = genfromtxt('./'+str(i), delimiter=',')\n",
        "        output = all_data_csv[:,2]\n",
        "        print(i)\n",
        "        list_of_SI[j] = sobol.analyze(problem, output, calc_second_order=True, conf_level=0.95, print_to_console=False)"
      ],
      "execution_count": null,
      "outputs": [
        {
          "output_type": "stream",
          "text": [
            "soybean-000-2015.csv\n",
            "sugar-beet-2011.csv\n",
            "sugar-beet-2017.csv\n",
            "spring-barley-2012.csv\n",
            "sugar-beet-2014.csv\n"
          ],
          "name": "stdout"
        }
      ]
    },
    {
      "cell_type": "code",
      "metadata": {
        "id": "-d6zTAAxff_K",
        "colab_type": "code",
        "colab": {
          "base_uri": "https://localhost:8080/",
          "height": 327
        },
        "outputId": "f835a88e-d5a3-46ea-bf94-fe587b2a6981"
      },
      "source": [
        "groups={\"Soil physics\" : [\"Sand\", \"Clay\", \"BD\"],\n",
        "        \"Soil chemistry\" : [\"pH\", \"SOC\", \"CN\"]}\n",
        " \n",
        "fig = grouped_radial(list_of_SI[4], ['BD', 'Sand', 'Clay', 'pH', 'CN', 'SOC'], groups=groups, threshold=0.001)\n",
        "red_patch = mpatches.Patch(color='red', label='The red data')\n",
        "plt.title(list_of_names[4], loc='left')\n",
        "\n",
        "plt.show()"
      ],
      "execution_count": null,
      "outputs": [
        {
          "output_type": "stream",
          "text": [
            "Soil physics\n",
            "Soil chemistry\n"
          ],
          "name": "stdout"
        },
        {
          "output_type": "display_data",
          "data": {
            "image/png": "[encoded data removed]",
            "text/plain": [
              "<Figure size 432x288 with 1 Axes>"
            ]
          },
          "metadata": {
            "tags": []
          }
        }
      ]
    },
    {
      "cell_type": "markdown",
      "metadata": {
        "id": "Ogp_Xw3tff_Q",
        "colab_type": "text"
      },
      "source": [
        "<img src=\"http://drive.google.com/uc?export=view&id=10AEhkAB_h8JeDp2YfqSgjBj1mONp2o3p\">\n"
      ]
    },
    {
      "cell_type": "markdown",
      "metadata": {
        "id": "uz8LoKAWff_Q",
        "colab_type": "text"
      },
      "source": [
        "## Homework"
      ]
    },
    {
      "cell_type": "markdown",
      "metadata": {
        "id": "NRf5Tc2eff_R",
        "colab_type": "text"
      },
      "source": [
        "__[Tasks](https://skoltech-my.sharepoint.com/:w:/g/personal/mikhail_gasanov_skoltech_ru/EeTPQxbrzVdPqnSENKYyoTUBay1RDYgMMW3GO3qFT2ge5g?e=4hk45V)__\n",
        "\n",
        "Usefull\n",
        "\n",
        "__SA and UQ__\n",
        "\n",
        "\n",
        "1) [Rhodium project](https://github.com/Project-Platypus/Rhodium.git)\n",
        "\n",
        "\n",
        "2) [SALib](https://github.com/SALib/SALib)\n",
        "\n",
        "__Model__\n",
        "\n",
        "3) [PCSE](https://pcse.readthedocs.io/en/stable/index.html)\n",
        "\n",
        "4) How to install PCSE at local machine\n",
        "    `conda env create -f` [py3_pcse.yml](https://github.com/mishagrol/Seminar_Sobol/blob/master/py3_pcse.yml)\n",
        "\n",
        "Аny questions  -  \n",
        "\n",
        "Telegram - `@misha_grol`"
      ]
    },
    {
      "cell_type": "markdown",
      "metadata": {
        "id": "3QNf2VAmVrCB",
        "colab_type": "text"
      },
      "source": [
        "Part 1 – Crop Yield Prediction (PCSE, MONICA)  \n",
        "\n",
        "You can use the seminars’ colab:  \n",
        "\n",
        "“https://colab.research.google.com/drive/1j4AHD8KkTRThPuNsQzQFWYSJtptQ6bUA”  \n",
        "\n",
        "1) Assess the yield of one of the crops for the Moscow region over several years (potatoes, sugar beets for 2-3 years)   \n",
        "\n",
        "    Crop  - (https://github.com/mishagrol/Seminar_Sobol/tree/master/data/crop) \n",
        "\n",
        "    Soil - (https://github.com/mishagrol/Seminar_Sobol/tree/master/data/soil) \n",
        "\n",
        "    Weather  - NASAdataprovider in PCSE (https://pcse.readthedocs.io/en/stable/code.html?highlight=NASA#pcse.db.NASAPowerWeatherDataProvider)   \n",
        "\n",
        "    Agromanagement - (https://github.com/mishagrol/Seminar_Sobol/blob/master/data/agro/sugarbeet_calendar_Moscow_short.agro) \n",
        "\n",
        "Part 2 – Sensitivity Analysis (SALib)  \n",
        "\n",
        "1) Perform sensitivity analysis of one of the model blocks (crop, soil, agromanagement *) with SALib. You can choose one of the methods that you consider necessary (Sobol, FAST, ...). \n",
        "\n",
        "    Generate samples – In report provide the size of the resulting matrix and the sample size (N) \n",
        "\n",
        "    Conduct parameter sensitivity analysis  - In report provide S1 and ST indices.  \n",
        "\n",
        "2) Generate plots (Hist, Radial convergence plot, etc.)  \n",
        "\n",
        "*3) Estimate the required number of simulations to obtain reliable values of the sensitivity indices. Try to estimate the sample size at the confidence interval of the sensitivity indices. \n",
        "\n",
        "* Please note that working with discrete data can cause certain difficulties. "
      ]
    },
    {
      "cell_type": "markdown",
      "metadata": {
        "id": "glY-k3rworEl",
        "colab_type": "text"
      },
      "source": [
        "#Agro Hack https://agro-code.ru/"
      ]
    },
    {
      "cell_type": "markdown",
      "metadata": {
        "id": "YlZ0GfwNff_U",
        "colab_type": "text"
      },
      "source": [
        "### bonus"
      ]
    },
    {
      "cell_type": "markdown",
      "metadata": {
        "id": "0NsBD3_lff_V",
        "colab_type": "text"
      },
      "source": [
        "__Morris method__"
      ]
    },
    {
      "cell_type": "markdown",
      "metadata": {
        "id": "Y7dLOiBiff_V",
        "colab_type": "text"
      },
      "source": [
        "\n",
        "Generate a sample using the Method of Morris\n",
        "\n",
        "Three variants of Morris' sampling for elementary effects is supported:\n",
        "\n",
        "- Vanilla Morris\n",
        "- Optimised trajectories when ``optimal_trajectories=True`` (using\n",
        "    Campolongo's enhancements from 2007 and optionally Ruano's enhancement\n",
        "    from 2012; ``local_optimization=True``)\n",
        "- Groups with optimised trajectories when ``optimal_trajectories=True`` and\n",
        "    the problem definition specifies groups (note that ``local_optimization``\n",
        "    must be ``False``)\n",
        "\n",
        "At present, optimised trajectories is implemented using either a brute-force\n",
        "approach, which can be very slow, especially if you require more than four\n",
        "trajectories, or a local method based which is much faster. Both methods now\n",
        "implement working with groups of factors.\n",
        "\n",
        "Note that the number of factors makes little difference,\n",
        "but the ratio between number of optimal trajectories and the sample size\n",
        "results in an exponentially increasing number of scores that must be\n",
        "computed to find the optimal combination of trajectories.  We suggest going\n",
        "no higher than 4 from a pool of 100 samples with the brute force approach.\n",
        "With local_optimization = True (which is default),\n",
        "it is possible to go higher than the previously suggested 4 from 100.\n",
        "\n"
      ]
    },
    {
      "cell_type": "code",
      "metadata": {
        "id": "ROldqQcHff_W",
        "colab_type": "code",
        "colab": {}
      },
      "source": [
        "import sys\n",
        "\n",
        "from SALib.analyze import morris\n",
        "from SALib.sample.morris import sample\n",
        "from SALib.test_functions import Sobol_G\n",
        "from SALib.util import read_param_file\n",
        "from SALib.plotting.morris import horizontal_bar_plot, covariance_plot, \\\n",
        "    sample_histograms\n",
        "import matplotlib.pyplot as plt\n",
        "\n",
        "#sys.path.append('../..')\n",
        "\n",
        "# Read the parameter range file and generate samples\n",
        "#problem = read_param_file('/Users/mikhailgasanov/Documents/GIT/SALib/src/SALib/test_functions/params/Sobol_G.txt')\n",
        "# or define manually without a parameter file:\n",
        "problem = {\n",
        " 'num_vars': 8,\n",
        " 'names': ['x1', 'x2', 'x3', 'x4', 'x5', 'x6', 'x7', 'x8'],\n",
        " 'groups': None,\n",
        " 'bounds': [[0.0, 1.0],\n",
        "            [0.0, 1.0],\n",
        "            [0.0, 1.0],\n",
        "            [0.0, 1.0],\n",
        "            [0.0, 1.0],\n",
        "            [0.0, 1.0],\n",
        "            [0.0, 1.0],\n",
        "            [0.0, 1.0]]\n",
        "}\n",
        "# Files with a 4th column for \"group name\" will be detected automatically, e.g.\n",
        "# param_file = '../../src/SALib/test_functions/params/Ishigami_groups.txt'\n",
        "\n",
        "# Generate samples\n",
        "param_values = sample(problem, N=1000, num_levels=4,\n",
        "                      optimal_trajectories=None)\n",
        "\n",
        "# To use optimized trajectories (brute force method),\n",
        "# give an integer value for optimal_trajectories\n",
        "\n",
        "# Run the \"model\" -- this will happen offline for external models\n",
        "Y = Sobol_G.evaluate(param_values)\n",
        "\n",
        "# Perform the sensitivity analysis using the model output\n",
        "# Specify which column of the output file to analyze (zero-indexed)\n",
        "Si = morris.analyze(problem, param_values, Y, conf_level=0.95,\n",
        "                    print_to_console=True,\n",
        "                    num_levels=4, num_resamples=100)\n",
        "# Returns a dictionary with keys 'mu', 'mu_star', 'sigma', and 'mu_star_conf'\n",
        "# e.g. Si['mu_star'] contains the mu* value for each parameter, in the\n",
        "# same order as the parameter file\n",
        "\n",
        "fig, (ax1, ax2) = plt.subplots(1, 2)\n",
        "horizontal_bar_plot(ax1, Si, {}, sortby='mu_star', unit=r\"tCO$_2$/year\")\n",
        "covariance_plot(ax2, Si, {}, unit=r\"tCO$_2$/year\")\n",
        "\n",
        "fig2 = plt.figure()\n",
        "sample_histograms(fig2, param_values, problem, {'color': 'y'})\n",
        "plt.show()"
      ],
      "execution_count": null,
      "outputs": []
    },
    {
      "cell_type": "code",
      "metadata": {
        "id": "8-FizFxrff_Y",
        "colab_type": "code",
        "colab": {}
      },
      "source": [
        ""
      ],
      "execution_count": null,
      "outputs": []
    }
  ]
}