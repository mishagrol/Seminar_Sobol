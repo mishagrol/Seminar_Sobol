{
 "cells": [
  {
   "cell_type": "markdown",
   "metadata": {},
   "source": [
    "# Digital agro \n",
    "\n",
    "# Sensitivity analysis of complex models\n",
    "\n",
    "# Seminar - 24.04.2020"
   ]
  },
  {
   "cell_type": "markdown",
   "metadata": {},
   "source": [
    "### MONICA model"
   ]
  },
  {
   "cell_type": "markdown",
   "metadata": {},
   "source": [
    "![image.png](monica.png)"
   ]
  },
  {
   "cell_type": "markdown",
   "metadata": {},
   "source": [
    "### Main "
   ]
  },
  {
   "cell_type": "markdown",
   "metadata": {},
   "source": [
    "![image.png](pipeline.png)"
   ]
  },
  {
   "cell_type": "markdown",
   "metadata": {},
   "source": [
    "Consider the model output as\n",
    "\\begin{eqnarray*}\n",
    "Y=f(X)=f\\left(X_{1}, \\ldots, X_{p}\\right),\n",
    "\\end{eqnarray*}\n",
    "where $f$ in our case part of agro-model simulator, $X$ are $p$ varied input parameters and $Y$ is the predicted output. Following the techniques by Sobol we represent the multi-variate random function $f$ using Hoeffding decomposition:\n",
    "\\begin{equation}\\label{eq:hoeffding}\n",
    "f(X_1,\\dots,X_p) = f_0 + \\sum_i^p f_i + \\sum_i^p\\sum_{j>i}^p f_{ij} + \\dots + f_{1\\dots p},\n",
    "\\end{equation}\n",
    "where $f_0$ is a constant term, $f_i = f_i(X_i)$ denotes main effects, $f_{ij} = f_{ij}(X_i, X_j)$ and others describe higher-order interactions. These terms can be written as\n",
    "\\begin{equation*}\n",
    "\\begin{split}\n",
    "f_0 &= E(Y),\\\\\n",
    "f_i &= E_{X_{\\sim i}}(Y | X_i) - E(Y),\\\\\n",
    "f_{ij} &= E_{X_{\\sim ij}}(Y | X_i, X_j) - f_i - f_j - f_0,\\\\\n",
    "\\dots\n",
    "\\end{split}\n",
    "\\end{equation*}\n",
    "where $E$ is mathematical expectation and $X_{\\sim i}$ denotes all parameters except $i^\\text{th}$. Under the assumption that the input parameters are independent, total variance $V(Y)$ of the crop yield can be decomposed as follows:\n",
    "\\begin{equation*}\n",
    "V(Y) = \\sum_i^p V_i + \\sum_i^p\\sum_{j>i}^p V_{ij} + \\dots + V_{12\\dots p},\n",
    "\\end{equation*}\n",
    "where partial variances are\n",
    "\\begin{equation*}\n",
    "\\begin{split}\n",
    "V_i &= V[f_i(X_i)] = V_{X_i}\\left[E_{X_{\\sim i}}(Y | X_i)\\right],\\\\\n",
    "V_{ij} &= V[f_{ij}(X_i,X_j)] = V_{X_iX_j}\\left[E_{X_{\\sim ij}}(Y | X_i, X_j)\\right] - V_i - V_j,\\\\\n",
    "\\dots\n",
    "\\end{split}\n",
    "\\end{equation*}\n"
   ]
  },
  {
   "cell_type": "markdown",
   "metadata": {},
   "source": [
    "## Sobol index (first order, second order, total index)"
   ]
  },
  {
   "cell_type": "markdown",
   "metadata": {},
   "source": [
    "This way, sensitivity indices (SI) can be introduced as \n",
    "\\begin{equation}\n",
    "S_i = \\frac{V_i}{V(Y)},~S_{ij} = \\frac{V_{ij}}{V(Y)},~\\dots\n",
    "\\end{equation}\n",
    "In order to incorporate all of the interactions for a particular parameter, one can compute the total effect index:\n",
    "\\begin{equation}\n",
    "S_{T_i} = \\frac{E_{X_{\\sim i}}\\left[V_{X_i}(Y|X_{\\sim i})\\right]}{V(Y)} = 1 - \\frac{V_{X_{\\sim i}}\\left[E_{X_i}(Y | X_{\\sim i})\\right]}{V(Y)}\n",
    "\\end{equation}\n",
    "\n",
    "\n",
    "\n",
    "\n",
    "\n",
    "\n",
    "\n",
    "\n",
    "\n",
    "-------------"
   ]
  },
  {
   "cell_type": "markdown",
   "metadata": {},
   "source": [
    "# Problem - input samples for model: how to generate?  "
   ]
  },
  {
   "cell_type": "markdown",
   "metadata": {},
   "source": [
    "#### Sobol’ Sequences versus Random numbers and regular grid\n"
   ]
  },
  {
   "cell_type": "markdown",
   "metadata": {},
   "source": [
    "More -\n",
    "* [Wiki](https://en.wikipedia.org/wiki/Sobol_sequence)\n",
    "* [Habr](https://habr.com/ru/post/440892/)"
   ]
  },
  {
   "cell_type": "markdown",
   "metadata": {},
   "source": [
    "![image](./Sobol_seq_24_04_2020_DA.png)"
   ]
  },
  {
   "cell_type": "markdown",
   "metadata": {},
   "source": [
    "### Modern Quasi-Random Sequences"
   ]
  },
  {
   "cell_type": "markdown",
   "metadata": {},
   "source": [
    "<img src=\"./quazi-random-sobol-etc.gif\" width=\"700\" height=\"400\" />\n"
   ]
  },
  {
   "cell_type": "markdown",
   "metadata": {},
   "source": [
    "# Running PCSE/WOFOST with custom input data (1)\n",
    "\n",
    "This Jupyter notebook will show you how to read inputs from files for running PCSE/WOFOST.\n",
    "\n",
    "thanks to **Allard de Wit, March 2018**\n",
    "\n",
    "**Prerequisites for running this notebook**\n",
    "\n",
    "Several packages need to be installed for running PCSE/WOFOST:\n",
    "\n",
    "  1. `PCSE` and its dependencies. See the [PCSE user guide](http://pcse.readthedocs.io/en/stable/installing.html) for more information;\n",
    "  2. The `pandas` module for processing and storing WOFOST output;\n",
    "  3. The `matplotlib` module for generating charts"
   ]
  },
  {
   "cell_type": "markdown",
   "metadata": {},
   "source": [
    "<img style=\"float: right;\" src=\"data:image/png;base64,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\">\n",
    "\n"
   ]
  },
  {
   "cell_type": "markdown",
   "metadata": {},
   "source": [
    "## Introduction\n",
    "\n",
    "For running PCSE/WOFOST (and PCSE models in general) with your own data sources you need three different types of inputs:\n",
    "\n",
    " 1. Model parameters that parameterize the different model components. These parameters usually consist of a set of crop parameters (or multiple sets in case of crop rotations), a set of soil parameters and a set of site parameters. The latter provide ancillary parameters that are specific for a location, for example the initial amount of moisture in the soil.\n",
    " 2. Driving variables represented by weather data which can be derived from various sources.\n",
    " 3. Agromanagement actions which specify the farm activities that will take place on the field that is simulated by PCSE.\n",
    "\n",
    "For this example we will run a simulation for sugar beet in Wageningen (Netherlands) and we will read the input data step by step from several different sources instead of using the pre-configured start_wofost() script. For the example we will assume that data files are in the `data` directory within the directory where this notebook is located. This will be the case if you downloaded the notebooks from github."
   ]
  },
  {
   "cell_type": "markdown",
   "metadata": {},
   "source": [
    "## Importing the relevant modules\n"
   ]
  },
  {
   "cell_type": "code",
   "execution_count": 1,
   "metadata": {},
   "outputs": [
    {
     "name": "stderr",
     "output_type": "stream",
     "text": [
      "Platform not recognized, using system temp directory for PCSE settings.\n",
      "Platform not recognized, using system temp directory for PCSE settings.\n"
     ]
    },
    {
     "name": "stdout",
     "output_type": "stream",
     "text": [
      "Building PCSE demo database at: /var/folders/r6/z9xmxtd51vx8p0624r877nk00000gn/T/.pcse/pcse.db ... OK\n",
      "This notebook was built with:\n",
      "python version: 3.6.10 | packaged by conda-forge | (default, Apr  6 2020, 14:40:13) \n",
      "[GCC Clang 9.0.1 ] \n",
      "PCSE version: 5.4.2\n"
     ]
    }
   ],
   "source": [
    "%matplotlib inline\n",
    "import sys, os\n",
    "import matplotlib\n",
    "matplotlib.style.use(\"ggplot\")\n",
    "import matplotlib.pyplot as plt\n",
    "import pandas as pd\n",
    "import yaml\n",
    "import numpy as np\n",
    "\n",
    "data_dir = os.path.join(os.getcwd(), \"data\")\n",
    "import pcse\n",
    "print(\"This notebook was built with:\")\n",
    "print(\"python version: %s \" % sys.version)\n",
    "print(\"PCSE version: %s\" %  pcse.__version__)"
   ]
  },
  {
   "cell_type": "markdown",
   "metadata": {},
   "source": [
    "## Reading model parameters\n",
    "### Crop parameters\n",
    "\n",
    "The crop parameters consist of parameter names and the corresponding parameter values that are needed to parameterize the components of the crop simulation model. These are crop-specific values regarding phenology, assimilation, respiration, biomass partitioning, etc. The parameter file for sugar beet is taken from the crop files in the WOFOST Control Centre.\n",
    "\n",
    "As many crop models in Wageningen were written in FORTRAN, the crop parameters for many models in Wageningen are often provided in the CABO format that could be read with the TTUTIL FORTRAN library. This CABO format will be gradually phased out and PCSE will move to a new format based on YAML, see [here for an example](https://github.com/ajwdewit/WOFOST_crop_parameters/blob/master/wheat.yaml). However, PCSE tries to be backward compatible as much as possible and provides the `CABOFileReader` for reading parameter files in CABO format. The `CABOFileReader` returns a dictionary with the parameter name/value pairs:"
   ]
  },
  {
   "cell_type": "code",
   "execution_count": 3,
   "metadata": {},
   "outputs": [],
   "source": [
    "from pcse.fileinput import CABOFileReader\n",
    "cropfile = os.path.join(data_dir, 'crop', 'sug0601.crop')\n",
    "cropdata = CABOFileReader(cropfile)"
   ]
  },
  {
   "cell_type": "code",
   "execution_count": 4,
   "metadata": {},
   "outputs": [
    {
     "data": {
      "text/plain": [
       "63"
      ]
     },
     "execution_count": 4,
     "metadata": {},
     "output_type": "execute_result"
    }
   ],
   "source": [
    "# Number of parameters for our crop \n",
    "len(cropdata)"
   ]
  },
  {
   "cell_type": "code",
   "execution_count": 178,
   "metadata": {},
   "outputs": [],
   "source": [
    "#cropdata"
   ]
  },
  {
   "cell_type": "markdown",
   "metadata": {},
   "source": [
    "### Soil parameters\n",
    "The soildata dictionary provides the parameter name/value pairs related to the soil type and soil physical properties. The number of parameters is variable depending on the soil water balance type that is used for the simulation. For this example, we will use the water balance for freely draining soils and use the soil file for medium fine sand: `ec3.soil`. This file is also taken from the soil files in the [WOFOST Control Centre](http://www.wageningenur.nl/wofost)."
   ]
  },
  {
   "cell_type": "code",
   "execution_count": 5,
   "metadata": {},
   "outputs": [],
   "source": [
    "soilfile = os.path.join(data_dir, 'soil', 'ec3.soil')\n",
    "soildata = CABOFileReader(soilfile)"
   ]
  },
  {
   "cell_type": "code",
   "execution_count": 6,
   "metadata": {},
   "outputs": [
    {
     "data": {
      "text/plain": [
       "16"
      ]
     },
     "execution_count": 6,
     "metadata": {},
     "output_type": "execute_result"
    }
   ],
   "source": [
    "len(soildata)"
   ]
  },
  {
   "cell_type": "code",
   "execution_count": 187,
   "metadata": {},
   "outputs": [],
   "source": [
    "#soildata"
   ]
  },
  {
   "cell_type": "markdown",
   "metadata": {},
   "source": [
    "### Site parameters\n",
    "\n",
    "The site parameters provide ancillary parameters that are not related to the crop or the soil. Examples are the initial conditions of the water balance such as the initial soil moisture content (WAV) and the initial and maximum surface storage (SSI, SSMAX). Also the atmospheric $CO_{2}$ \n",
    "concentration is a typical site parameter. For the moment, we can define these parameters directly on the Python commandline as a simple python dictionary. However, it is more convenient to use the `WOFOST71SiteDataProvider` that documents the site parameters and provides sensible defaults:"
   ]
  },
  {
   "cell_type": "code",
   "execution_count": 7,
   "metadata": {},
   "outputs": [
    {
     "name": "stdout",
     "output_type": "stream",
     "text": [
      "{'IFUNRN': 0, 'NOTINF': 0, 'SSI': 0.0, 'SSMAX': 0.0, 'WAV': 100.0, 'SMLIM': 0.4, 'CO2': 360.0}\n"
     ]
    }
   ],
   "source": [
    "from pcse.util import WOFOST71SiteDataProvider\n",
    "sitedata = WOFOST71SiteDataProvider(WAV=100, CO2=360)\n",
    "print(sitedata)"
   ]
  },
  {
   "cell_type": "markdown",
   "metadata": {},
   "source": [
    "### Packaging all parameters\n",
    "Finally, we need to pack the different sets of parameters into one variable using the `ParameterProvider`. This is needed because PCSE expects one variable that contains all parameter values. Using this approach has the additional advantage that parameter value can be easily overridden in case of running multiple simulations with slightly different parameter values:"
   ]
  },
  {
   "cell_type": "code",
   "execution_count": 8,
   "metadata": {},
   "outputs": [],
   "source": [
    "from pcse.base import ParameterProvider\n",
    "parameters = ParameterProvider(cropdata=cropdata, soildata=soildata, sitedata=sitedata)"
   ]
  },
  {
   "cell_type": "markdown",
   "metadata": {},
   "source": [
    "## Agromanagement\n",
    "The agromanagement inputs provide the start date of the agricultural campaign, the start_date/start_type of the crop simulation, the end_date/end_type of the crop simulation and the maximum duration of the crop simulation. The latter is included to avoid unrealistically long simulations for example as a results of a too high temperature sum requirement.\n",
    "\n",
    "The agromanagement inputs are defined with a special syntax called [YAML](http://yaml.org/) which allows to easily create more complex structures which is needed for defining the agromanagement. The agromanagement file for sugar beet in Wageningen `sugarbeet_calendar.agro` can be read with the `YAMLAgroManagementReader`:"
   ]
  },
  {
   "cell_type": "code",
   "execution_count": 52,
   "metadata": {},
   "outputs": [
    {
     "data": {
      "text/plain": [
       "'/Users/mikhailgasanov/Documents/GIT/PCSE/Seminar_Sobol/data/agro/sugarbeet_calendar_Moscow_short.agro'"
      ]
     },
     "execution_count": 52,
     "metadata": {},
     "output_type": "execute_result"
    }
   ],
   "source": [
    "agromanagement_file"
   ]
  },
  {
   "cell_type": "code",
   "execution_count": 188,
   "metadata": {},
   "outputs": [
    {
     "name": "stderr",
     "output_type": "stream",
     "text": [
      "/Users/mikhailgasanov/opt/anaconda3/envs/py3_pcse/lib/python3.6/site-packages/pcse/fileinput/yaml_agro_loader.py:21: YAMLLoadWarning: calling yaml.load() without Loader=... is deprecated, as the default Loader is unsafe. Please read https://msg.pyyaml.org/load for full details.\n",
      "  r = yaml.load(fp)\n"
     ]
    }
   ],
   "source": [
    "from pcse.fileinput import YAMLAgroManagementReader\n",
    "agromanagement_file = os.path.join(data_dir, 'agro', 'sugarbeet_calendar_Moscow_short.agro')\n",
    "agromanagement = YAMLAgroManagementReader(agromanagement_file)\n",
    "#print(agromanagement)"
   ]
  },
  {
   "cell_type": "code",
   "execution_count": 206,
   "metadata": {},
   "outputs": [],
   "source": [
    "K_kg = 60\n",
    "P_kg = 60\n",
    "N_kg = 120\n",
    "year_date=2019\n",
    "yaml_agro = f\"\"\"\n",
    "- {year_date}-06-01:\n",
    "    CropCalendar:\n",
    "        crop_name: 'sugar-beet'\n",
    "        variety_name: 'sugar-beet-601'\n",
    "        crop_start_date: {year_date}-06-02\n",
    "        crop_start_type: emergence\n",
    "        crop_end_date: {year_date}-10-15\n",
    "        crop_end_type: harvest\n",
    "        max_duration: 300\n",
    "    TimedEvents:\n",
    "    -   event_signal: apply_npk\n",
    "        name:  Timed N/P/K application table\n",
    "        comment: All fertilizer amounts in kg/ha\n",
    "        events_table:\n",
    "        - {year_date}-06-22: {{N_amount : {N_kg}, P_amount: {P_kg}, K_amount: {K_kg}}}\n",
    "    StateEvents: null\n",
    "\"\"\"\n",
    "agromanagement = yaml.safe_load(yaml_agro)"
   ]
  },
  {
   "cell_type": "markdown",
   "metadata": {},
   "source": [
    "## Daily weather observations\n",
    "Daily weather variables are needed for running the simulation. There are several data providers in PCSE for reading weather data, see the section on [weather data providers](http://pcse.readthedocs.io/en/stable/reference_guide.html#weather-data-providers) to get an overview.\n",
    "\n",
    "For this example we will use weather data from an excel file which provides daily weather data for Wageningen for the period 2004 to 2008. We will read the data from the file using the ExcelWeatherDataProvider:"
   ]
  },
  {
   "cell_type": "markdown",
   "metadata": {},
   "source": [
    "### NASA Weather Data Provider"
   ]
  },
  {
   "cell_type": "code",
   "execution_count": 11,
   "metadata": {},
   "outputs": [],
   "source": [
    "#NASA Weather system\n",
    "from pcse.db import NASAPowerWeatherDataProvider"
   ]
  },
  {
   "cell_type": "code",
   "execution_count": 14,
   "metadata": {},
   "outputs": [],
   "source": [
    "moscow_weather = NASAPowerWeatherDataProvider(54.45, 36.36)"
   ]
  },
  {
   "cell_type": "markdown",
   "metadata": {},
   "source": [
    "Weather loader for __NH__ example"
   ]
  },
  {
   "cell_type": "code",
   "execution_count": 162,
   "metadata": {},
   "outputs": [
    {
     "name": "stdout",
     "output_type": "stream",
     "text": [
      "Weather data provided by: ExcelWeatherDataProvider\n",
      "--------Description---------\n",
      "Weather data for:\n",
      "Country: Netherlands\n",
      "Station: Wageningen, Location Haarweg\n",
      "Description: Observed data from Station Haarweg in Wageningen\n",
      "Source: Meteorology and Air Quality Group, Wageningen University\n",
      "Contact: Peter Uithol\n",
      "----Site characteristics----\n",
      "Elevation:    7.0\n",
      "Latitude:  51.970\n",
      "Longitude:  5.670\n",
      "Data available for 2004-01-02 - 2008-12-31\n",
      "Number of missing days: 0\n",
      "\n"
     ]
    }
   ],
   "source": [
    "from pcse.fileinput import ExcelWeatherDataProvider\n",
    "weatherfile = os.path.join(data_dir, 'meteo', 'nl1.xlsx')\n",
    "wdp = ExcelWeatherDataProvider(weatherfile)\n",
    "print(wdp)"
   ]
  },
  {
   "cell_type": "markdown",
   "metadata": {},
   "source": [
    "## Importing, initializing and running a PCSE model\n",
    "\n",
    "Internally, PCSE uses a simulation engine to run a crop simulation. This engine takes a configuration file that specifies the components for the crop, the soil and the agromanagement that need to be used for the simulation. So any PCSE model can be started by importing the engine and initializing it with a given configuration file and the corresponding parameters, weather data and agromanagement.\n",
    "\n",
    "However, as many users of PCSE only need a particular configuration (for example the WOFOST model for potential production), preconfigured Engines are provided in `pcse.models`. For the sugarbeet example we will import the WOFOST model for water-limited simulation under freely draining soil conditions:"
   ]
  },
  {
   "cell_type": "code",
   "execution_count": 25,
   "metadata": {},
   "outputs": [],
   "source": [
    "from pcse.models import Wofost71_WLP_FD\n",
    "#wofsim = Wofost71_WLP_FD(parameters, moscow_weather, agromanagement)"
   ]
  },
  {
   "cell_type": "code",
   "execution_count": 158,
   "metadata": {},
   "outputs": [
    {
     "name": "stdout",
     "output_type": "stream",
     "text": [
      "CPU times: user 1.07 s, sys: 13.7 ms, total: 1.09 s\n",
      "Wall time: 1.14 s\n"
     ]
    },
    {
     "data": {
      "text/html": [
       "<div>\n",
       "<style scoped>\n",
       "    .dataframe tbody tr th:only-of-type {\n",
       "        vertical-align: middle;\n",
       "    }\n",
       "\n",
       "    .dataframe tbody tr th {\n",
       "        vertical-align: top;\n",
       "    }\n",
       "\n",
       "    .dataframe thead th {\n",
       "        text-align: right;\n",
       "    }\n",
       "</style>\n",
       "<table border=\"1\" class=\"dataframe\">\n",
       "  <thead>\n",
       "    <tr style=\"text-align: right;\">\n",
       "      <th></th>\n",
       "      <th>DVS</th>\n",
       "      <th>LAI</th>\n",
       "      <th>TAGP</th>\n",
       "      <th>TWSO</th>\n",
       "      <th>TWLV</th>\n",
       "      <th>TWST</th>\n",
       "      <th>TWRT</th>\n",
       "      <th>TRA</th>\n",
       "      <th>RD</th>\n",
       "      <th>SM</th>\n",
       "      <th>WWLOW</th>\n",
       "    </tr>\n",
       "    <tr>\n",
       "      <th>day</th>\n",
       "      <th></th>\n",
       "      <th></th>\n",
       "      <th></th>\n",
       "      <th></th>\n",
       "      <th></th>\n",
       "      <th></th>\n",
       "      <th></th>\n",
       "      <th></th>\n",
       "      <th></th>\n",
       "      <th></th>\n",
       "      <th></th>\n",
       "    </tr>\n",
       "  </thead>\n",
       "  <tbody>\n",
       "    <tr>\n",
       "      <th>2006-10-16</th>\n",
       "      <td>2.0</td>\n",
       "      <td>1.048787</td>\n",
       "      <td>21557.705173</td>\n",
       "      <td>14410.185356</td>\n",
       "      <td>3408.824045</td>\n",
       "      <td>3738.695772</td>\n",
       "      <td>2805.686837</td>\n",
       "      <td>0.052878</td>\n",
       "      <td>120.0</td>\n",
       "      <td>0.283340</td>\n",
       "      <td>34.000845</td>\n",
       "    </tr>\n",
       "    <tr>\n",
       "      <th>2006-10-17</th>\n",
       "      <td>2.0</td>\n",
       "      <td>1.055901</td>\n",
       "      <td>21628.846417</td>\n",
       "      <td>14474.212476</td>\n",
       "      <td>3412.381108</td>\n",
       "      <td>3742.252834</td>\n",
       "      <td>2807.138699</td>\n",
       "      <td>0.030516</td>\n",
       "      <td>120.0</td>\n",
       "      <td>0.282876</td>\n",
       "      <td>33.945161</td>\n",
       "    </tr>\n",
       "    <tr>\n",
       "      <th>2006-10-18</th>\n",
       "      <td>2.0</td>\n",
       "      <td>1.049414</td>\n",
       "      <td>21658.771700</td>\n",
       "      <td>14501.145230</td>\n",
       "      <td>3413.877372</td>\n",
       "      <td>3743.749098</td>\n",
       "      <td>2807.749419</td>\n",
       "      <td>0.030184</td>\n",
       "      <td>120.0</td>\n",
       "      <td>0.284605</td>\n",
       "      <td>34.152545</td>\n",
       "    </tr>\n",
       "    <tr>\n",
       "      <th>2006-10-19</th>\n",
       "      <td>2.0</td>\n",
       "      <td>1.052133</td>\n",
       "      <td>21685.964928</td>\n",
       "      <td>14525.619135</td>\n",
       "      <td>3415.237033</td>\n",
       "      <td>3745.108759</td>\n",
       "      <td>2808.304383</td>\n",
       "      <td>0.043053</td>\n",
       "      <td>120.0</td>\n",
       "      <td>0.284840</td>\n",
       "      <td>34.180768</td>\n",
       "    </tr>\n",
       "    <tr>\n",
       "      <th>2006-10-20</th>\n",
       "      <td>2.0</td>\n",
       "      <td>1.043584</td>\n",
       "      <td>21717.141971</td>\n",
       "      <td>14553.678474</td>\n",
       "      <td>3416.795885</td>\n",
       "      <td>3746.667611</td>\n",
       "      <td>2808.940650</td>\n",
       "      <td>0.039061</td>\n",
       "      <td>120.0</td>\n",
       "      <td>0.284271</td>\n",
       "      <td>34.112520</td>\n",
       "    </tr>\n",
       "  </tbody>\n",
       "</table>\n",
       "</div>"
      ],
      "text/plain": [
       "            DVS       LAI          TAGP          TWSO         TWLV  \\\n",
       "day                                                                  \n",
       "2006-10-16  2.0  1.048787  21557.705173  14410.185356  3408.824045   \n",
       "2006-10-17  2.0  1.055901  21628.846417  14474.212476  3412.381108   \n",
       "2006-10-18  2.0  1.049414  21658.771700  14501.145230  3413.877372   \n",
       "2006-10-19  2.0  1.052133  21685.964928  14525.619135  3415.237033   \n",
       "2006-10-20  2.0  1.043584  21717.141971  14553.678474  3416.795885   \n",
       "\n",
       "                   TWST         TWRT       TRA     RD        SM      WWLOW  \n",
       "day                                                                         \n",
       "2006-10-16  3738.695772  2805.686837  0.052878  120.0  0.283340  34.000845  \n",
       "2006-10-17  3742.252834  2807.138699  0.030516  120.0  0.282876  33.945161  \n",
       "2006-10-18  3743.749098  2807.749419  0.030184  120.0  0.284605  34.152545  \n",
       "2006-10-19  3745.108759  2808.304383  0.043053  120.0  0.284840  34.180768  \n",
       "2006-10-20  3746.667611  2808.940650  0.039061  120.0  0.284271  34.112520  "
      ]
     },
     "execution_count": 158,
     "metadata": {},
     "output_type": "execute_result"
    }
   ],
   "source": [
    "%%time\n",
    "from pcse.models import Wofost71_WLP_FD\n",
    "wofsim = Wofost71_WLP_FD(parameters, wdp, agromanagement)\n",
    "wofsim.run_till_terminate()\n",
    "df_results_5 = pd.DataFrame(wofsim.get_output())\n",
    "df_results_5 = df_results_5.set_index(\"day\")\n",
    "df_results_5.tail()"
   ]
  },
  {
   "cell_type": "markdown",
   "metadata": {},
   "source": [
    "We can then run the simulation and retrieve the time series of daily simulation output using the get_output() method on the WOFOST object. Finally, we convert the simulation results to a pandas dataframe:"
   ]
  },
  {
   "cell_type": "code",
   "execution_count": 152,
   "metadata": {},
   "outputs": [],
   "source": [
    "summary_output = wofsim.get_summary_output()"
   ]
  },
  {
   "cell_type": "code",
   "execution_count": 153,
   "metadata": {},
   "outputs": [
    {
     "data": {
      "text/plain": [
       "[{'DVS': 2.0,\n",
       "  'LAIMAX': 5.367243094787344,\n",
       "  'TAGP': 21717.14197118098,\n",
       "  'TWSO': 14553.678474455048,\n",
       "  'TWLV': 3416.7958853006894,\n",
       "  'TWST': 3746.6676114252436,\n",
       "  'TWRT': 2808.940649509447,\n",
       "  'CTRAT': 29.87844231452199,\n",
       "  'RD': 120.0,\n",
       "  'DOS': None,\n",
       "  'DOE': datetime.date(2006, 4, 5),\n",
       "  'DOA': datetime.date(2006, 6, 15),\n",
       "  'DOM': datetime.date(2006, 9, 17),\n",
       "  'DOH': datetime.date(2006, 10, 20),\n",
       "  'DOV': None}]"
      ]
     },
     "execution_count": 153,
     "metadata": {},
     "output_type": "execute_result"
    }
   ],
   "source": [
    "wofsim.get_summary_output()"
   ]
  },
  {
   "cell_type": "code",
   "execution_count": 124,
   "metadata": {},
   "outputs": [
    {
     "name": "stdout",
     "output_type": "stream",
     "text": [
      "Reached maturity at None with total biomass 13978.429466670656 kg/ha and a yield of 9243.131093205777 kg/ha.\n"
     ]
    }
   ],
   "source": [
    "msg = \"Reached maturity at {DOM} with total biomass {TAGP} kg/ha \"\\\n",
    "\"and a yield of {TWSO} kg/ha.\"\n",
    "print(msg.format(**summary_output[0]))"
   ]
  },
  {
   "cell_type": "markdown",
   "metadata": {},
   "source": [
    "# SA PCSE"
   ]
  },
  {
   "cell_type": "code",
   "execution_count": 56,
   "metadata": {},
   "outputs": [],
   "source": [
    "NPK = {\n",
    "    'num_vars':3,\n",
    "    'names':['N', 'P', 'K'],\n",
    "    'bounds':[[30., 60.],\n",
    "              [60., 90.],\n",
    "              [100., 130.]]\n",
    "}"
   ]
  },
  {
   "cell_type": "code",
   "execution_count": 159,
   "metadata": {},
   "outputs": [],
   "source": [
    "Soil_parameters = {\n",
    "  'num_vars':5,\n",
    "    'names':['SMV', 'SMFCF', 'SM0', 'CRAIRC', 'K0'],\n",
    "    'bounds':[[0.7, 1.3],\n",
    "              [0.1, 0.5],\n",
    "              [0.2, 0.6],\n",
    "             [0.04, 0.08],\n",
    "             [22.5, 27.5]]}"
   ]
  },
  {
   "cell_type": "markdown",
   "metadata": {},
   "source": [
    "![image](HPC.jpg)"
   ]
  },
  {
   "cell_type": "code",
   "execution_count": 160,
   "metadata": {},
   "outputs": [],
   "source": [
    "param_values = saltelli.sample(Soil_parameters, 10)"
   ]
  },
  {
   "cell_type": "markdown",
   "metadata": {},
   "source": [
    "$n = N \\times (D \\times 2 +2)$"
   ]
  },
  {
   "cell_type": "code",
   "execution_count": 161,
   "metadata": {},
   "outputs": [
    {
     "data": {
      "text/plain": [
       "(120, 5)"
      ]
     },
     "execution_count": 161,
     "metadata": {},
     "output_type": "execute_result"
    }
   ],
   "source": [
    "param_values.shape"
   ]
  },
  {
   "cell_type": "code",
   "execution_count": null,
   "metadata": {},
   "outputs": [],
   "source": [
    "K_kg = 60\n",
    "P_kg = 60\n",
    "N_kg = 120\n",
    "year_date=2019\n",
    "yaml_agro = f\"\"\"\n",
    "- {year_date}-06-01:\n",
    "    CropCalendar:\n",
    "        crop_name: 'sugar-beet'\n",
    "        variety_name: 'sugar-beet-601'\n",
    "        crop_start_date: {year_date}-06-02\n",
    "        crop_start_type: emergence\n",
    "        crop_end_date: {year_date}-10-15\n",
    "        crop_end_type: harvest\n",
    "        max_duration: 300\n",
    "    TimedEvents:\n",
    "    -   event_signal: apply_npk\n",
    "        name:  Timed N/P/K application table\n",
    "        comment: All fertilizer amounts in kg/ha\n",
    "        events_table:\n",
    "        - {year_date}-06-22: {{N_amount : {N_kg}, P_amount: {P_kg}, K_amount: {K_kg}}}\n",
    "    StateEvents: null\n",
    "\"\"\"\n",
    "agromanagement = yaml.load(yaml_agro)"
   ]
  },
  {
   "cell_type": "markdown",
   "metadata": {},
   "source": [
    "## Input samples"
   ]
  },
  {
   "cell_type": "code",
   "execution_count": 166,
   "metadata": {},
   "outputs": [],
   "source": [
    "from pcse.fileinput import YAMLAgroManagementReader\n",
    "agromanagement_file = os.path.join(data_dir, 'agro', './sugarbeet_calendar.agro')\n",
    "agromanagement = YAMLAgroManagementReader(agromanagement_file)\n",
    "#print(agromanagement)\n",
    "Soil_parameters = {\n",
    "  'num_vars':5,\n",
    "    'names':['SMV', 'SMFCF', 'SM0', 'CRAIRC', 'K0'],\n",
    "    'bounds':[[0.7, 1.3],\n",
    "              [0.1, 0.5],\n",
    "              [0.2, 0.6],\n",
    "             [0.04, 0.08],\n",
    "             [22.5, 27.5]]}\n",
    "param_values = saltelli.sample(Soil_parameters, N=10, calc_second_order=True)"
   ]
  },
  {
   "cell_type": "markdown",
   "metadata": {},
   "source": [
    "### Loop for yield prediction"
   ]
  },
  {
   "cell_type": "code",
   "execution_count": 176,
   "metadata": {},
   "outputs": [],
   "source": [
    "def sensitivity_soil(soil_parameters):\n",
    "    SMV, SMFCF, SM0, CRAIRC, K0 = soil_parameters \n",
    "    soildata['SMV'] = SMV\n",
    "    soildata['SMFCF'] = SMFCF\n",
    "    soildata['SM0'] = SM0\n",
    "    soildata['CRAIRC'] = CRAIRC\n",
    "    soildata['K0'] = K0\n",
    "    parameters = ParameterProvider(cropdata=cropdata, soildata=soildata, sitedata=sitedata)\n",
    "    wofsim = Wofost71_WLP_FD(parameters, wdp, agromanagement)\n",
    "    wofsim.run_till_terminate()\n",
    "    #df_results = pd.DataFrame(wofsim.get_output())\n",
    "    #df_results = df_results.set_index(\"day\")\n",
    "    #df_results.tail()\n",
    "    summary_output = wofsim.get_summary_output()\n",
    "    yield_list.append(summary_output[0]['TWSO'])"
   ]
  },
  {
   "cell_type": "code",
   "execution_count": 177,
   "metadata": {},
   "outputs": [],
   "source": [
    "sensitivity_soil(param_values[30])"
   ]
  },
  {
   "cell_type": "code",
   "execution_count": 179,
   "metadata": {},
   "outputs": [
    {
     "data": {
      "text/plain": [
       "array([ 1.28183594,  0.21835938,  0.25976562,  0.05003906, 26.59667969])"
      ]
     },
     "execution_count": 179,
     "metadata": {},
     "output_type": "execute_result"
    }
   ],
   "source": [
    "param_values[30]"
   ]
  },
  {
   "cell_type": "code",
   "execution_count": 180,
   "metadata": {},
   "outputs": [
    {
     "name": "stdout",
     "output_type": "stream",
     "text": [
      "[ 0.83183594  0.13867188  0.40742187  0.06707031 23.90136719]\n",
      "[ 1.24433594  0.13867188  0.40742187  0.06707031 23.90136719]\n",
      "[ 0.83183594  0.11835938  0.40742187  0.06707031 23.90136719]\n",
      "[ 0.83183594  0.13867188  0.55976563  0.06707031 23.90136719]\n",
      "[ 0.83183594  0.13867188  0.40742187  0.06003906 23.90136719]\n",
      "[ 0.83183594  0.13867188  0.40742187  0.06707031 22.84667969]\n",
      "[ 0.83183594  0.11835938  0.55976563  0.06003906 22.84667969]\n",
      "[ 1.24433594  0.13867188  0.55976563  0.06003906 22.84667969]\n",
      "[ 1.24433594  0.11835938  0.40742187  0.06003906 22.84667969]\n",
      "[ 1.24433594  0.11835938  0.55976563  0.06707031 22.84667969]\n",
      "[ 1.24433594  0.11835938  0.55976563  0.06003906 23.90136719]\n",
      "[ 1.24433594  0.11835938  0.55976563  0.06003906 22.84667969]\n",
      "[ 1.13183594  0.33867188  0.20742188  0.04707031 26.40136719]\n",
      "[ 0.94433594  0.33867188  0.20742188  0.04707031 26.40136719]\n",
      "[ 1.13183594  0.31835938  0.20742188  0.04707031 26.40136719]\n",
      "[ 1.13183594  0.33867188  0.35976562  0.04707031 26.40136719]\n",
      "[ 1.13183594  0.33867188  0.20742188  0.04003906 26.40136719]\n",
      "[ 1.13183594  0.33867188  0.20742188  0.04707031 25.34667969]\n",
      "[ 1.13183594  0.31835938  0.35976562  0.04003906 25.34667969]\n",
      "[ 0.94433594  0.33867188  0.35976562  0.04003906 25.34667969]\n",
      "[ 0.94433594  0.31835938  0.20742188  0.04003906 25.34667969]\n",
      "[ 0.94433594  0.31835938  0.35976562  0.04707031 25.34667969]\n",
      "[ 0.94433594  0.31835938  0.35976562  0.04003906 26.40136719]\n",
      "[ 0.94433594  0.31835938  0.35976562  0.04003906 25.34667969]\n",
      "[ 1.28183594  0.23867188  0.50742187  0.07707031 25.15136719]\n",
      "[ 0.79433594  0.23867188  0.50742187  0.07707031 25.15136719]\n",
      "[ 1.28183594  0.21835938  0.50742187  0.07707031 25.15136719]\n",
      "[ 1.28183594  0.23867188  0.25976562  0.07707031 25.15136719]\n",
      "[ 1.28183594  0.23867188  0.50742187  0.05003906 25.15136719]\n",
      "[ 1.28183594  0.23867188  0.50742187  0.07707031 26.59667969]\n",
      "[ 1.28183594  0.21835938  0.25976562  0.05003906 26.59667969]\n",
      "[ 0.79433594  0.23867188  0.25976562  0.05003906 26.59667969]\n",
      "[ 0.79433594  0.21835938  0.50742187  0.05003906 26.59667969]\n",
      "[ 0.79433594  0.21835938  0.25976562  0.07707031 26.59667969]\n",
      "[ 0.79433594  0.21835938  0.25976562  0.05003906 25.15136719]\n",
      "[ 0.79433594  0.21835938  0.25976562  0.05003906 26.59667969]\n",
      "[ 0.98183594  0.43867188  0.30742188  0.05707031 22.65136719]\n",
      "[ 1.09433594  0.43867188  0.30742188  0.05707031 22.65136719]\n",
      "[ 0.98183594  0.41835937  0.30742188  0.05707031 22.65136719]\n",
      "[ 0.98183594  0.43867188  0.45976563  0.05707031 22.65136719]\n",
      "[ 0.98183594  0.43867188  0.30742188  0.07003906 22.65136719]\n",
      "[ 0.98183594  0.43867188  0.30742188  0.05707031 24.09667969]\n",
      "[ 0.98183594  0.41835937  0.45976563  0.07003906 24.09667969]\n",
      "[ 1.09433594  0.43867188  0.45976563  0.07003906 24.09667969]\n",
      "[ 1.09433594  0.41835937  0.30742188  0.07003906 24.09667969]\n",
      "[ 1.09433594  0.41835937  0.45976563  0.05707031 24.09667969]\n",
      "[ 1.09433594  0.41835937  0.45976563  0.07003906 22.65136719]\n",
      "[ 1.09433594  0.41835937  0.45976563  0.07003906 24.09667969]\n",
      "[ 0.90683594  0.28867188  0.25742188  0.05207031 23.27636719]\n",
      "[ 1.16933594  0.28867188  0.25742188  0.05207031 23.27636719]\n",
      "[ 0.90683594  0.26835938  0.25742188  0.05207031 23.27636719]\n",
      "[ 0.90683594  0.28867188  0.20976563  0.05207031 23.27636719]\n",
      "[ 0.90683594  0.28867188  0.25742188  0.05503906 23.27636719]\n",
      "[ 0.90683594  0.28867188  0.25742188  0.05207031 25.97167969]\n",
      "[ 0.90683594  0.26835938  0.20976563  0.05503906 25.97167969]\n",
      "[ 1.16933594  0.28867188  0.20976563  0.05503906 25.97167969]\n",
      "[ 1.16933594  0.26835938  0.25742188  0.05503906 25.97167969]\n",
      "[ 1.16933594  0.26835938  0.20976563  0.05207031 25.97167969]\n",
      "[ 1.16933594  0.26835938  0.20976563  0.05503906 23.27636719]\n",
      "[ 1.16933594  0.26835938  0.20976563  0.05503906 25.97167969]\n",
      "[ 1.20683594  0.48867187  0.45742187  0.07207031 25.77636719]\n",
      "[ 0.86933594  0.48867187  0.45742187  0.07207031 25.77636719]\n",
      "[ 1.20683594  0.46835938  0.45742187  0.07207031 25.77636719]\n",
      "[ 1.20683594  0.48867187  0.40976563  0.07207031 25.77636719]\n",
      "[ 1.20683594  0.48867187  0.45742187  0.07503906 25.77636719]\n",
      "[ 1.20683594  0.48867187  0.45742187  0.07207031 23.47167969]\n",
      "[ 1.20683594  0.46835938  0.40976563  0.07503906 23.47167969]\n",
      "[ 0.86933594  0.48867187  0.40976563  0.07503906 23.47167969]\n",
      "[ 0.86933594  0.46835938  0.45742187  0.07503906 23.47167969]\n",
      "[ 0.86933594  0.46835938  0.40976563  0.07207031 23.47167969]\n",
      "[ 0.86933594  0.46835938  0.40976563  0.07503906 25.77636719]\n",
      "[ 0.86933594  0.46835938  0.40976563  0.07503906 23.47167969]\n",
      "[ 1.05683594  0.18867188  0.35742188  0.04207031 27.02636719]\n",
      "[ 0.71933594  0.18867188  0.35742188  0.04207031 27.02636719]\n",
      "[ 1.05683594  0.16835938  0.35742188  0.04207031 27.02636719]\n",
      "[ 1.05683594  0.18867188  0.50976562  0.04207031 27.02636719]\n",
      "[ 1.05683594  0.18867188  0.35742188  0.06503906 27.02636719]\n",
      "[ 1.05683594  0.18867188  0.35742188  0.04207031 24.72167969]\n",
      "[ 1.05683594  0.16835938  0.50976562  0.06503906 24.72167969]\n",
      "[ 0.71933594  0.18867188  0.50976562  0.06503906 24.72167969]\n",
      "[ 0.71933594  0.16835938  0.35742188  0.06503906 24.72167969]\n",
      "[ 0.71933594  0.16835938  0.50976562  0.04207031 24.72167969]\n",
      "[ 0.71933594  0.16835938  0.50976562  0.06503906 27.02636719]\n",
      "[ 0.71933594  0.16835938  0.50976562  0.06503906 24.72167969]\n",
      "[ 0.75683594  0.38867188  0.55742187  0.06207031 24.52636719]\n",
      "[ 1.01933594  0.38867188  0.55742187  0.06207031 24.52636719]\n",
      "[ 0.75683594  0.36835938  0.55742187  0.06207031 24.52636719]\n",
      "[ 0.75683594  0.38867188  0.30976562  0.06207031 24.52636719]\n",
      "[ 0.75683594  0.38867188  0.55742187  0.04503906 24.52636719]\n",
      "[ 0.75683594  0.38867188  0.55742187  0.06207031 27.22167969]\n",
      "[ 0.75683594  0.36835938  0.30976562  0.04503906 27.22167969]\n",
      "[ 1.01933594  0.38867188  0.30976562  0.04503906 27.22167969]\n",
      "[ 1.01933594  0.36835938  0.55742187  0.04503906 27.22167969]\n",
      "[ 1.01933594  0.36835938  0.30976562  0.06207031 27.22167969]\n",
      "[ 1.01933594  0.36835938  0.30976562  0.04503906 24.52636719]\n",
      "[ 1.01933594  0.36835938  0.30976562  0.04503906 27.22167969]\n",
      "[ 0.73808594  0.17617188  0.21992188  0.05832031 25.62011719]\n",
      "[ 0.85058594  0.17617188  0.21992188  0.05832031 25.62011719]\n",
      "[ 0.73808594  0.48085937  0.21992188  0.05832031 25.62011719]\n",
      "[ 0.73808594  0.17617188  0.52226562  0.05832031 25.62011719]\n",
      "[ 0.73808594  0.17617188  0.21992188  0.04128906 25.62011719]\n",
      "[ 0.73808594  0.17617188  0.21992188  0.05832031 24.56542969]\n",
      "[ 0.73808594  0.48085937  0.52226562  0.04128906 24.56542969]\n",
      "[ 0.85058594  0.17617188  0.52226562  0.04128906 24.56542969]\n",
      "[ 0.85058594  0.48085937  0.21992188  0.04128906 24.56542969]\n",
      "[ 0.85058594  0.48085937  0.52226562  0.05832031 24.56542969]\n",
      "[ 0.85058594  0.48085937  0.52226562  0.04128906 25.62011719]\n",
      "[ 0.85058594  0.48085937  0.52226562  0.04128906 24.56542969]\n",
      "[ 1.03808594  0.37617188  0.41992188  0.07832031 23.12011719]\n",
      "[ 1.15058594  0.37617188  0.41992188  0.07832031 23.12011719]\n",
      "[ 1.03808594  0.28085938  0.41992188  0.07832031 23.12011719]\n",
      "[ 1.03808594  0.37617188  0.32226562  0.07832031 23.12011719]\n",
      "[ 1.03808594  0.37617188  0.41992188  0.06128906 23.12011719]\n",
      "[ 1.03808594  0.37617188  0.41992188  0.07832031 27.06542969]\n",
      "[ 1.03808594  0.28085938  0.32226562  0.06128906 27.06542969]\n",
      "[ 1.15058594  0.37617188  0.32226562  0.06128906 27.06542969]\n",
      "[ 1.15058594  0.28085938  0.41992188  0.06128906 27.06542969]\n",
      "[ 1.15058594  0.28085938  0.32226562  0.07832031 27.06542969]\n",
      "[ 1.15058594  0.28085938  0.32226562  0.06128906 23.12011719]\n",
      "[ 1.15058594  0.28085938  0.32226562  0.06128906 27.06542969]\n",
      "CPU times: user 1min 55s, sys: 702 ms, total: 1min 56s\n",
      "Wall time: 2min 1s\n"
     ]
    }
   ],
   "source": [
    "%%time\n",
    "yield_list = []\n",
    "param_values = saltelli.sample(Soil_parameters, 10, calc_second_order=True)\n",
    "for st in range(len(param_values)):\n",
    "    sensitivity_soil(param_values[st])\n",
    "    #print(param_values[st])"
   ]
  },
  {
   "cell_type": "code",
   "execution_count": 184,
   "metadata": {},
   "outputs": [],
   "source": [
    "np_yield = np.array(yield_list)"
   ]
  },
  {
   "cell_type": "code",
   "execution_count": 186,
   "metadata": {},
   "outputs": [
    {
     "data": {
      "text/plain": [
       "(120,)"
      ]
     },
     "execution_count": 186,
     "metadata": {},
     "output_type": "execute_result"
    }
   ],
   "source": [
    "np_yield.shape"
   ]
  },
  {
   "cell_type": "code",
   "execution_count": 205,
   "metadata": {},
   "outputs": [
    {
     "data": {
      "text/plain": [
       "[              ST   ST_conf\n",
       " SMV     0.000000  0.000000\n",
       " SMFCF   0.433048  0.885393\n",
       " SM0     0.377433  0.568678\n",
       " CRAIRC  0.000000  0.000000\n",
       " K0      0.000000  0.000000,\n",
       "               S1   S1_conf\n",
       " SMV     0.000000  0.000000\n",
       " SMFCF  -0.125075  0.924747\n",
       " SM0     0.256621  0.566706\n",
       " CRAIRC  0.000000  0.000000\n",
       " K0      0.000000  0.000000,\n",
       "                            S2       S2_conf\n",
       " (SMV, SMFCF)     1.110223e-16  2.159656e-16\n",
       " (SMV, SM0)      -5.551115e-17  1.072992e-16\n",
       " (SMV, CRAIRC)    0.000000e+00  0.000000e+00\n",
       " (SMV, K0)        0.000000e+00  0.000000e+00\n",
       " (SMFCF, SM0)     1.651238e-01  1.386681e+00\n",
       " (SMFCF, CRAIRC)  1.258354e-01  1.375128e+00\n",
       " (SMFCF, K0)      1.258354e-01  1.375128e+00\n",
       " (SM0, CRAIRC)    4.283364e-01  1.090745e+00\n",
       " (SM0, K0)        4.283364e-01  1.090745e+00\n",
       " (CRAIRC, K0)     0.000000e+00  0.000000e+00]"
      ]
     },
     "execution_count": 205,
     "metadata": {},
     "output_type": "execute_result"
    }
   ],
   "source": [
    "Si = sobol.analyze(Soil_parameters, np_yield, print_to_console=False)\n",
    "Si_df = Si.to_df()\n",
    "Si_df"
   ]
  },
  {
   "cell_type": "markdown",
   "metadata": {},
   "source": [
    "## Visualizing simulation results"
   ]
  },
  {
   "cell_type": "markdown",
   "metadata": {},
   "source": [
    "Finally, we can generate some figures of WOFOST variables such as the development (DVS), total biomass (TAGP), leaf area index (LAI) and root-zone soil moisture (SM) using the MatPlotLib plotting package:"
   ]
  },
  {
   "cell_type": "code",
   "execution_count": 181,
   "metadata": {},
   "outputs": [
    {
     "data": {
      "image/png": "[encoded data removed]",
      "text/plain": [
       "<Figure size 864x720 with 4 Axes>"
      ]
     },
     "metadata": {},
     "output_type": "display_data"
    }
   ],
   "source": [
    "fig, axes = plt.subplots(nrows=2, ncols=2, figsize=(12,10))\n",
    "for var, ax in zip([\"DVS\", \"TWSO\", \"LAI\", \"SM\"], axes.flatten()):\n",
    "    ax.plot_date(df_results.index, df_results[var], 'b-')\n",
    "    ax.set_title(var)\n",
    "fig.autofmt_xdate()"
   ]
  },
  {
   "cell_type": "markdown",
   "metadata": {},
   "source": [
    "# Sensitivity analysis"
   ]
  },
  {
   "cell_type": "markdown",
   "metadata": {},
   "source": [
    "In this example, we will perform a Sobol’ sensitivity analysis of the Ishigami function, shown below. The Ishigami function is commonly used to test uncertainty and sensitivity analysis methods because it exhibits strong nonlinearity and nonmonotonicity."
   ]
  },
  {
   "cell_type": "markdown",
   "metadata": {},
   "source": [
    "$f(x)=\\sin \\left(x_{1}\\right)+\\operatorname{asin}^{2}\\left(x_{2}\\right)+b x_{3}^{4} \\sin \\left(x_{1}\\right)$"
   ]
  },
  {
   "cell_type": "code",
   "execution_count": 2,
   "metadata": {},
   "outputs": [],
   "source": [
    "from SALib.sample import saltelli\n",
    "from SALib.analyze import sobol\n",
    "from SALib.test_functions import Ishigami\n",
    "import numpy as np"
   ]
  },
  {
   "cell_type": "markdown",
   "metadata": {},
   "source": [
    "Next, we must define the model inputs. The Ishigami function has three inputs, $x_{1}$,$x_{2}$,$x_{3}$ where $x_{i} \\in[-\\pi, \\pi]$. In SALib, we define a `dict` defining the number of inputs, the names of the inputs, and the bounds on each input, as shown below."
   ]
  },
  {
   "cell_type": "code",
   "execution_count": 21,
   "metadata": {},
   "outputs": [],
   "source": [
    "problem = {\n",
    "  'num_vars': 3,\n",
    "  'names': ['x1', 'x2', 'x3'],\n",
    "  'bounds': [[-np.pi, np.pi]]*3\n",
    "}"
   ]
  },
  {
   "cell_type": "code",
   "execution_count": null,
   "metadata": {},
   "outputs": [],
   "source": [
    "for j, i in enumerate(list_of_csv):\n",
    "        all_data_csv = genfromtxt('./'+str(i), delimiter=',')\n",
    "        output = all_data_csv[:,2]\n",
    "        print(i)\n",
    "        list_of_SI[j] = sobol.analyze(problem, output, calc_second_order=True, conf_level=0.95, print_to_console=False)\n"
   ]
  },
  {
   "cell_type": "markdown",
   "metadata": {},
   "source": [
    "Here, `param_values` is a NumPy matrix. If we run `param_values.shape`, we see that the matrix is **8000 by 3**. The Saltelli sampler generated 8000 samples. The Saltelli sampler generates $N∗(2D+2)$ samples, where in this example $N$ is 1000 (the argument we supplied) and $D$ is 3 (the number of model inputs). The keyword argument `calc_second_order=False` will exclude second-order indices, resulting in a smaller sample matrix with $N∗(D+2)$ rows instead.\n"
   ]
  },
  {
   "cell_type": "code",
   "execution_count": 23,
   "metadata": {},
   "outputs": [
    {
     "name": "stdout",
     "output_type": "stream",
     "text": [
      "Parameter S1 S1_conf ST ST_conf\n",
      "x1 0.307975 0.063769 0.560137 0.084886\n",
      "x2 0.447767 0.056001 0.438722 0.040663\n",
      "x3 -0.004255 0.058466 0.242845 0.024166\n",
      "\n",
      "Parameter_1 Parameter_2 S2 S2_conf\n",
      "x1 x2 0.012205 0.088213\n",
      "x1 x3 0.251526 0.106417\n",
      "x2 x3 -0.009954 0.067973\n"
     ]
    }
   ],
   "source": [
    "# Generate samples\n",
    "param_values = saltelli.sample(problem, 1000)\n",
    "\n",
    "# Run model (example)\n",
    "Y = Ishigami.evaluate(param_values)\n",
    "\n",
    "# Perform analysis\n",
    "Si = sobol.analyze(problem, Y, print_to_console=True)\n",
    "# Returns a dictionary with keys 'S1', 'S1_conf', 'ST', and 'ST_conf'\n",
    "# (first and total-order indices with bootstrap confidence intervals)\n",
    "T_Si, first_Si, (idx, second_Si) = sobol.Si_to_pandas_dict(Si)"
   ]
  },
  {
   "cell_type": "markdown",
   "metadata": {},
   "source": [
    "## Simple tool for Sobol' seq and LHS sample visualization for sensitivity analysis"
   ]
  },
  {
   "cell_type": "markdown",
   "metadata": {},
   "source": [
    "How to repeat: [Repo of SampleVIS](https://github.com/charlesrouge/SampleVis)"
   ]
  },
  {
   "cell_type": "markdown",
   "metadata": {},
   "source": [
    "Plots by [Water programming group](https://waterprogramming.wordpress.com/2019/08/27/a-python-implementation-of-grouped-radial-convergence-plots-to-visualize-sobol-sensitivity-analysis-results/)"
   ]
  },
  {
   "cell_type": "code",
   "execution_count": null,
   "metadata": {},
   "outputs": [],
   "source": [
    "import numpy as np\n",
    "from SALib.analyze import sobol\n",
    "from SALib.sample import saltelli\n",
    "from fishery import fish_game\n",
    "import matplotlib.pyplot as plt\n",
    "import itertools\n",
    "import math"
   ]
  },
  {
   "cell_type": "markdown",
   "metadata": {},
   "source": [
    "### Why number of samples is important?"
   ]
  },
  {
   "cell_type": "code",
   "execution_count": 48,
   "metadata": {},
   "outputs": [
    {
     "name": "stdout",
     "output_type": "stream",
     "text": [
      "n= 50\n",
      "n= 100\n",
      "n= 150\n",
      "n= 200\n",
      "n= 250\n",
      "n= 300\n",
      "n= 350\n",
      "n= 400\n",
      "n= 450\n"
     ]
    },
    {
     "data": {
      "image/png": "[encoded data removed]",
      "text/plain": [
       "<Figure size 1296x648 with 2 Axes>"
      ]
     },
     "metadata": {},
     "output_type": "display_data"
    },
    {
     "data": {
      "image/png": "[encoded data removed]",
      "text/plain": [
       "<Figure size 1296x648 with 2 Axes>"
      ]
     },
     "metadata": {},
     "output_type": "display_data"
    }
   ],
   "source": [
    "# Set up dictionary with system parameters\n",
    "problem = {\n",
    "  'num_vars': 6,\n",
    "  'names': ['a', 'b', 'c','h',\n",
    "            'K','m'],\n",
    "  'bounds': [[ 0.002, 2],\n",
    "             [0.005, 1],\n",
    "             [0.2, 1],\n",
    "             [0.001, 1],\n",
    "             [100, 5000],\n",
    "             [0.1, 1.5]]\n",
    "}\n",
    "\n",
    "# Array with n's to use\n",
    "nsamples = np.arange(50, 500, 50)\n",
    "\n",
    "# Arrays to store the index estimates\n",
    "S1_estimates = np.zeros([problem['num_vars'],len(nsamples)])\n",
    "ST_estimates = np.zeros([problem['num_vars'],len(nsamples)])\n",
    "\n",
    "# Loop through all n values, create sample, evaluate model and estimate S1 & ST\n",
    "for i in range(len(nsamples)):\n",
    "    print('n= '+ str(nsamples[i]))\n",
    "    # Generate samples\n",
    "    sampleset = saltelli.sample(problem, nsamples[i],calc_second_order=False)\n",
    "    # Run model for all samples\n",
    "    output = [fish_game(*sampleset[j,:]) for j in range(len(sampleset))]\n",
    "    # Perform analysis\n",
    "    results = sobol.analyze(problem, np.asarray(output), calc_second_order=False,print_to_console=False)\n",
    "    # Store estimates\n",
    "    ST_estimates[:,i]=results['ST']\n",
    "    S1_estimates[:,i]=results['S1']\n",
    "\n",
    "np.save('ST_estimates.npy', ST_estimates)\n",
    "np.save('S1_estimates.npy', S1_estimates)\n",
    "\n",
    "S1_estimates = np.load('S1_estimates.npy')\n",
    "ST_estimates = np.load('ST_estimates.npy')\n",
    "\n",
    "# Generate figure showing evolution of indices\n",
    "fig =  plt.figure(figsize=(18,9))\n",
    "ax1 = fig.add_subplot(1,2,1)\n",
    "handles = []\n",
    "for j in range(problem['num_vars']):\n",
    "    handles += ax1.plot(nsamples, S1_estimates[j,:], linewidth=5)\n",
    "ax1.set_title('Evolution of S1 index estimates', fontsize=20)\n",
    "ax1.set_ylabel('S1', fontsize=18)\n",
    "ax1.set_xlabel('Number of samples (n)', fontsize=18)\n",
    "ax1.tick_params(axis='both', which='major', labelsize=14)\n",
    "ax2 = fig.add_subplot(1,2,2)\n",
    "for j in range(problem['num_vars']):\n",
    "    ax2.plot(nsamples, ST_estimates[j,:], linewidth=5)\n",
    "ax2.set_title('Evolution of ST index estimates', fontsize=20)\n",
    "ax2.set_ylabel('ST', fontsize=18)\n",
    "ax2.tick_params(axis='both', which='major', labelsize=14)\n",
    "ax2.set_xlabel('Number of samples (n)', fontsize=18)\n",
    "fig.legend(handles, problem['names'], loc = 'right', fontsize=11)\n",
    "plt.savefig('indexevolution.png')\n",
    "\n",
    "# Calculate parameter rankings\n",
    "S1_ranks = np.zeros_like(S1_estimates)\n",
    "ST_ranks = np.zeros_like(ST_estimates)\n",
    "for i in range(len(nsamples)):\n",
    "    orderS1 = np.argsort(S1_estimates[:,i])\n",
    "    orderST = np.argsort(ST_estimates[:,i])\n",
    "    S1_ranks[:,i] = orderS1.argsort()\n",
    "    ST_ranks[:,i] = orderST.argsort()\n",
    "    \n",
    "# Generate figure showing evolution of ranks\n",
    "fig =  plt.figure(figsize=(18,9))\n",
    "ax1 = fig.add_subplot(1,2,1)\n",
    "handles = []\n",
    "for j in range(problem['num_vars']):\n",
    "    handles += ax1.plot(nsamples, S1_ranks[j,:], linewidth=3)\n",
    "ax1.set_title('Parameter ranking based on S1', fontsize=20)\n",
    "ax1.set_ylabel('S1', fontsize=18)\n",
    "ax1.set_xlabel('Number of samples (n)', fontsize=18)\n",
    "ax1.set_yticklabels(np.arange(problem['num_vars']+1, 0, -1))\n",
    "ax1.tick_params(axis='both', which='major', labelsize=14)\n",
    "ax2 = fig.add_subplot(1,2,2)\n",
    "for j in range(problem['num_vars']):\n",
    "    ax2.plot(nsamples, ST_ranks[j,:], linewidth=3)\n",
    "ax2.set_title('Parameter ranking based on ST', fontsize=20)\n",
    "ax2.set_ylabel('ST', fontsize=18)\n",
    "ax2.set_yticklabels(np.arange(problem['num_vars']+1, 0, -1))\n",
    "ax2.tick_params(axis='both', which='major', labelsize=14)\n",
    "ax2.set_xlabel('Number of samples (n)', fontsize=18)\n",
    "fig.legend(handles, problem['names'], loc = 'right', fontsize=14)\n",
    "plt.show()\n",
    "#plt.savefig('rankingevolution.png')\n",
    "# n is sample size for sobol' seq"
   ]
  },
  {
   "cell_type": "markdown",
   "metadata": {},
   "source": [
    "# Radial plot for SA"
   ]
  },
  {
   "cell_type": "code",
   "execution_count": null,
   "metadata": {},
   "outputs": [],
   "source": [
    "import numpy as np\n",
    "import itertools\n",
    "import matplotlib.pyplot as plt\n",
    "import seaborn as sns\n",
    "import math\n",
    "from numpy import genfromtxt\n",
    "import matplotlib.patches as mpatches\n",
    "import matplotlib.pyplot as plt\n",
    "sns.set_style('whitegrid', {'axes_linewidth': 0, 'axes.edgecolor': 'white'})"
   ]
  },
  {
   "cell_type": "code",
   "execution_count": null,
   "metadata": {},
   "outputs": [],
   "source": [
    "def is_significant(value, confidence_interval, threshold=\"conf\"):\n",
    "    if threshold == \"conf\":\n",
    "        return value - abs(confidence_interval) > 0\n",
    "    else:\n",
    "        return value - abs(float(threshold)) > 0\n",
    " \n",
    "def grouped_radial(SAresults, parameters, radSc=2.0, scaling=1, widthSc=0.5, STthick=1, varNameMult=1.3, colors=None, groups=None, gpNameMult=1.5, threshold=\"conf\"):\n",
    "    # Derived from https://github.com/calvinwhealton/SensitivityAnalysisPlots\n",
    "    fig, ax = plt.subplots(1, 1)\n",
    "    color_map = {}\n",
    "     \n",
    "    # initialize parameters and colors\n",
    "    if groups is None:\n",
    "         \n",
    "        if colors is None:\n",
    "            colors = [\"k\"]\n",
    "         \n",
    "        for i, parameter in enumerate(parameters):\n",
    "            color_map[parameter] = colors[i % len(colors)]\n",
    "    else:        \n",
    "        if colors is None:\n",
    "            colors = sns.color_palette(\"deep\", max(3, len(groups)))\n",
    "         \n",
    "        for i, key in enumerate(groups.keys()):\n",
    "            #parameters.extend(groups[key])\n",
    "             \n",
    "            for parameter in groups[key]:\n",
    "                color_map[parameter] = colors[i % len(colors)]\n",
    "     \n",
    "    n = len(parameters)\n",
    "    angles = radSc*math.pi*np.arange(0, n)/n\n",
    "    x = radSc*np.cos(angles)\n",
    "    y = radSc*np.sin(angles)\n",
    "     \n",
    "    # plot second-order indices\n",
    "    for i, j in itertools.combinations(range(n), 2):\n",
    "        #key1 = parameters[i]\n",
    "        #key2 = parameters[j]\n",
    "         \n",
    "        if is_significant(SAresults[\"S2\"][i][j], SAresults[\"S2_conf\"][i][j], threshold):\n",
    "            angle = math.atan((y[j]-y[i])/(x[j]-x[i]))\n",
    "                 \n",
    "            if y[j]-y[i] < 0:\n",
    "                angle += math.pi\n",
    "                 \n",
    "            line_hw = scaling*(max(0, SAresults[\"S2\"][i][j])**widthSc)/2\n",
    "                 \n",
    "            coords = np.empty((4, 2))\n",
    "            coords[0, 0] = x[i] - line_hw*math.sin(angle)\n",
    "            coords[1, 0] = x[i] + line_hw*math.sin(angle)\n",
    "            coords[2, 0] = x[j] + line_hw*math.sin(angle)\n",
    "            coords[3, 0] = x[j] - line_hw*math.sin(angle)\n",
    "            coords[0, 1] = y[i] + line_hw*math.cos(angle)\n",
    "            coords[1, 1] = y[i] - line_hw*math.cos(angle)\n",
    "            coords[2, 1] = y[j] - line_hw*math.cos(angle)\n",
    "            coords[3, 1] = y[j] + line_hw*math.cos(angle)\n",
    " \n",
    "            ax.add_artist(plt.Polygon(coords, color=\"0.75\"))\n",
    "         \n",
    "    # plot total order indices\n",
    "    for i, key in enumerate(parameters):\n",
    "        if is_significant(SAresults[\"ST\"][i], SAresults[\"ST_conf\"][i], threshold):\n",
    "            ax.add_artist(plt.Circle((x[i], y[i]), scaling*(SAresults[\"ST\"][i]**widthSc)/2, color='w'))\n",
    "            ax.add_artist(plt.Circle((x[i], y[i]), scaling*(SAresults[\"ST\"][i]**widthSc)/2, lw=STthick, color='0.4', fill=False))\n",
    "     \n",
    "    # plot first-order indices\n",
    "    for i, key in enumerate(parameters):\n",
    "        if is_significant(SAresults[\"S1\"][i], SAresults[\"S1_conf\"][i], threshold):\n",
    "            ax.add_artist(plt.Circle((x[i], y[i]), scaling*(SAresults[\"S1\"][i]**widthSc)/2, color='0.4'))\n",
    "            \n",
    "    # add labels\n",
    "    for i, key in enumerate(parameters):                \n",
    "        ax.text(varNameMult*x[i], varNameMult*y[i], key, ha='center', va='center',\n",
    "                rotation=angles[i]*360/(2*math.pi) - 90,\n",
    "                color=color_map[key])\n",
    "         \n",
    "    if groups is not None:\n",
    "        for i, group in enumerate(groups.keys()):\n",
    "            print(group)\n",
    "            group_angle = np.mean([angles[j] for j in range(n) if parameters[j] in groups[group]])\n",
    "             \n",
    "            ax.text(gpNameMult*radSc*math.cos(group_angle), gpNameMult*radSc*math.sin(group_angle), group, ha='center', va='center',\n",
    "                rotation=group_angle*360/(2*math.pi) - 90,\n",
    "                color=colors[i % len(colors)])\n",
    "             \n",
    "    ax.set_facecolor('white')\n",
    "    ax.set_xticks([])\n",
    "    ax.set_yticks([])\n",
    "#     ax.\n",
    "    plt.axis('equal')\n",
    "    plt.axis([-2*radSc, 2*radSc, -2*radSc, 2*radSc])\n",
    "    #plt.show()\n",
    " \n",
    "     \n",
    "    return fig"
   ]
  },
  {
   "cell_type": "markdown",
   "metadata": {},
   "source": [
    "### Range of soil parameters"
   ]
  },
  {
   "cell_type": "code",
   "execution_count": null,
   "metadata": {},
   "outputs": [],
   "source": [
    "problem = {\n",
    "    'num_vars':6,\n",
    "    'names':['SOC', 'Sand', 'Clay', 'pH', 'CN', 'BD'],\n",
    "    'bounds':[[2.58, 6.20],\n",
    "              [0.01, 0.30],\n",
    "              [0.01, 0.30],\n",
    "              [4.6, 6.9],\n",
    "              [10.9, 12.4],\n",
    "              [900, 1350]]\n",
    "}"
   ]
  },
  {
   "cell_type": "code",
   "execution_count": null,
   "metadata": {},
   "outputs": [],
   "source": [
    "#names for csv files\n",
    "list_of_csv=['soybean-000-2015.csv', 'sugar-beet-2011.csv', 'sugar-beet-2017.csv',\n",
    "'spring-barley-2012.csv', 'sugar-beet-2014.csv']\n",
    "list_of_names=['soybean-000-2015', 'sugar-beat-2011', 'sugar-beat-2017',\n",
    "'spring-barley-2012', 'sugar-beat-2014']\n",
    "list_of_totals=['total_SI_'+x for x in list_of_names]\n",
    "list_of_first=['fisrt_SI_'+x for x in list_of_names]\n",
    "list_of_second=['second_SI_'+x for x in list_of_names]\n",
    "list_of_SI=['SI_'+x for x in list_of_names]"
   ]
  },
  {
   "cell_type": "code",
   "execution_count": null,
   "metadata": {},
   "outputs": [],
   "source": [
    "for j, i in enumerate(list_of_csv):\n",
    "#     for j in range(len(list_of_csv)):\n",
    "        all_data_csv = genfromtxt('./'+str(i), delimiter=',')\n",
    "        output = all_data_csv[:,2]\n",
    "        print(i)\n",
    "        list_of_SI[j] = sobol.analyze(problem, output, calc_second_order=True, conf_level=0.95, print_to_console=False)\n",
    "#         list_of_totals[j], list_of_first[j], list_of_second[j] = Si.to_df()\n",
    "#         str(i)+'total_Si'=total_Si"
   ]
  },
  {
   "cell_type": "code",
   "execution_count": null,
   "metadata": {},
   "outputs": [],
   "source": [
    "groups={\"Soil physics\" : [\"Sand\", \"Clay\", \"BD\"],\n",
    "        \"Soil chemistry\" : [\"pH\", \"SOC\", \"CN\"]}\n",
    " \n",
    "fig = grouped_radial(list_of_SI[1], ['BD', 'Sand', 'Clay', 'pH', 'CN', 'SOC'], groups=groups, threshold=0.001)\n",
    "red_patch = mpatches.Patch(color='red', label='The red data')\n",
    "plt.title(list_of_names[3], loc='left')\n",
    "\n",
    "plt.show()\n",
    "\n",
    "# plt.savefig('grafik.png', dpi=300)"
   ]
  },
  {
   "cell_type": "markdown",
   "metadata": {},
   "source": [
    "<img src=\"./Radial_All_Crops.png\"/>"
   ]
  },
  {
   "cell_type": "markdown",
   "metadata": {},
   "source": [
    "## Homework"
   ]
  },
  {
   "cell_type": "markdown",
   "metadata": {},
   "source": [
    "Usefull\n",
    "\n",
    "__SA and UQ__\n",
    "\n",
    "\n",
    "1) [Rhodium project](https://github.com/Project-Platypus/Rhodium.git)\n",
    "\n",
    "\n",
    "2) [SALib](https://github.com/SALib/SALib)\n",
    "\n",
    "__Model__\n",
    "\n",
    "3) [PCSE](https://pcse.readthedocs.io/en/stable/index.html)"
   ]
  },
  {
   "cell_type": "markdown",
   "metadata": {},
   "source": [
    "<img src=\"./Radial_All_Crops.png\"/>"
   ]
  },
  {
   "cell_type": "markdown",
   "metadata": {},
   "source": [
    "### bonus"
   ]
  },
  {
   "cell_type": "markdown",
   "metadata": {},
   "source": []
  },
  {
   "cell_type": "markdown",
   "metadata": {},
   "source": [
    "\n",
    "Generate a sample using the Method of Morris\n",
    "\n",
    "Three variants of Morris' sampling for elementary effects is supported:\n",
    "\n",
    "- Vanilla Morris\n",
    "- Optimised trajectories when ``optimal_trajectories=True`` (using\n",
    "    Campolongo's enhancements from 2007 and optionally Ruano's enhancement\n",
    "    from 2012; ``local_optimization=True``)\n",
    "- Groups with optimised trajectories when ``optimal_trajectories=True`` and\n",
    "    the problem definition specifies groups (note that ``local_optimization``\n",
    "    must be ``False``)\n",
    "\n",
    "At present, optimised trajectories is implemented using either a brute-force\n",
    "approach, which can be very slow, especially if you require more than four\n",
    "trajectories, or a local method based which is much faster. Both methods now\n",
    "implement working with groups of factors.\n",
    "\n",
    "Note that the number of factors makes little difference,\n",
    "but the ratio between number of optimal trajectories and the sample size\n",
    "results in an exponentially increasing number of scores that must be\n",
    "computed to find the optimal combination of trajectories.  We suggest going\n",
    "no higher than 4 from a pool of 100 samples with the brute force approach.\n",
    "With local_optimization = True (which is default),\n",
    "it is possible to go higher than the previously suggested 4 from 100.\n",
    "\n"
   ]
  },
  {
   "cell_type": "code",
   "execution_count": null,
   "metadata": {},
   "outputs": [],
   "source": [
    "import sys\n",
    "\n",
    "from SALib.analyze import morris\n",
    "from SALib.sample.morris import sample\n",
    "from SALib.test_functions import Sobol_G\n",
    "from SALib.util import read_param_file\n",
    "from SALib.plotting.morris import horizontal_bar_plot, covariance_plot, \\\n",
    "    sample_histograms\n",
    "import matplotlib.pyplot as plt\n",
    "\n",
    "#sys.path.append('../..')\n",
    "\n",
    "# Read the parameter range file and generate samples\n",
    "#problem = read_param_file('/Users/mikhailgasanov/Documents/GIT/SALib/src/SALib/test_functions/params/Sobol_G.txt')\n",
    "# or define manually without a parameter file:\n",
    "problem = {\n",
    " 'num_vars': 8,\n",
    " 'names': ['x1', 'x2', 'x3', 'x4', 'x5', 'x6', 'x7', 'x8'],\n",
    " 'groups': None,\n",
    " 'bounds': [[0.0, 1.0],\n",
    "            [0.0, 1.0],\n",
    "            [0.0, 1.0],\n",
    "            [0.0, 1.0],\n",
    "            [0.0, 1.0],\n",
    "            [0.0, 1.0],\n",
    "            [0.0, 1.0],\n",
    "            [0.0, 1.0]]\n",
    "}\n",
    "# Files with a 4th column for \"group name\" will be detected automatically, e.g.\n",
    "# param_file = '../../src/SALib/test_functions/params/Ishigami_groups.txt'\n",
    "\n",
    "# Generate samples\n",
    "param_values = sample(problem, N=1000, num_levels=4,\n",
    "                      optimal_trajectories=None)\n",
    "\n",
    "# To use optimized trajectories (brute force method),\n",
    "# give an integer value for optimal_trajectories\n",
    "\n",
    "# Run the \"model\" -- this will happen offline for external models\n",
    "Y = Sobol_G.evaluate(param_values)\n",
    "\n",
    "# Perform the sensitivity analysis using the model output\n",
    "# Specify which column of the output file to analyze (zero-indexed)\n",
    "Si = morris.analyze(problem, param_values, Y, conf_level=0.95,\n",
    "                    print_to_console=True,\n",
    "                    num_levels=4, num_resamples=100)\n",
    "# Returns a dictionary with keys 'mu', 'mu_star', 'sigma', and 'mu_star_conf'\n",
    "# e.g. Si['mu_star'] contains the mu* value for each parameter, in the\n",
    "# same order as the parameter file\n",
    "\n",
    "fig, (ax1, ax2) = plt.subplots(1, 2)\n",
    "horizontal_bar_plot(ax1, Si, {}, sortby='mu_star', unit=r\"tCO$_2$/year\")\n",
    "covariance_plot(ax2, Si, {}, unit=r\"tCO$_2$/year\")\n",
    "\n",
    "fig2 = plt.figure()\n",
    "sample_histograms(fig2, param_values, problem, {'color': 'y'})\n",
    "plt.show()"
   ]
  },
  {
   "cell_type": "code",
   "execution_count": null,
   "metadata": {},
   "outputs": [],
   "source": []
  }
 ],
 "metadata": {
  "kernelspec": {
   "display_name": "Python 3",
   "language": "python",
   "name": "python3"
  },
  "language_info": {
   "codemirror_mode": {
    "name": "ipython",
    "version": 3
   },
   "file_extension": ".py",
   "mimetype": "text/x-python",
   "name": "python",
   "nbconvert_exporter": "python",
   "pygments_lexer": "ipython3",
   "version": "3.6.10"
  }
 },
 "nbformat": 4,
 "nbformat_minor": 1
}
