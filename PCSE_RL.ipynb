{
 "cells": [
  {
   "cell_type": "markdown",
   "metadata": {},
   "source": [
    "# RL methods for irrigation problems"
   ]
  },
  {
   "cell_type": "code",
   "execution_count": 3,
   "metadata": {},
   "outputs": [
    {
     "name": "stdout",
     "output_type": "stream",
     "text": [
      "This notebook was built with:\n",
      "python version: 3.6.10 | packaged by conda-forge | (default, Apr  6 2020, 14:40:13) \n",
      "[GCC Clang 9.0.1 ] \n",
      "PCSE version: 5.4.2\n"
     ]
    }
   ],
   "source": [
    "%matplotlib inline\n",
    "import sys, os\n",
    "import matplotlib\n",
    "matplotlib.style.use(\"ggplot\")\n",
    "import matplotlib.pyplot as plt\n",
    "import pandas as pd\n",
    "import yaml\n",
    "import numpy as np\n",
    "\n",
    "data_dir = os.path.join(os.getcwd(), \"data\")\n",
    "import pcse\n",
    "print(\"This notebook was built with:\")\n",
    "print(\"python version: %s \" % sys.version)\n",
    "print(\"PCSE version: %s\" %  pcse.__version__)"
   ]
  },
  {
   "cell_type": "code",
   "execution_count": 4,
   "metadata": {},
   "outputs": [],
   "source": [
    "from pcse.fileinput import CABOFileReader\n",
    "cropfile = os.path.join(data_dir, 'crop', 'sug0601.crop')\n",
    "cropdata = CABOFileReader(cropfile)"
   ]
  },
  {
   "cell_type": "code",
   "execution_count": 5,
   "metadata": {},
   "outputs": [],
   "source": [
    "soilfile = os.path.join(data_dir, 'soil', 'ec3.soil')\n",
    "soildata = CABOFileReader(soilfile)"
   ]
  },
  {
   "cell_type": "code",
   "execution_count": 6,
   "metadata": {},
   "outputs": [
    {
     "name": "stdout",
     "output_type": "stream",
     "text": [
      "{'IFUNRN': 0, 'NOTINF': 0, 'SSI': 0.0, 'SSMAX': 0.0, 'WAV': 100.0, 'SMLIM': 0.4, 'CO2': 360.0}\n"
     ]
    }
   ],
   "source": [
    "from pcse.util import WOFOST71SiteDataProvider\n",
    "sitedata = WOFOST71SiteDataProvider(WAV=100, CO2=360)\n",
    "print(sitedata)"
   ]
  },
  {
   "cell_type": "code",
   "execution_count": 7,
   "metadata": {},
   "outputs": [],
   "source": [
    "from pcse.base import ParameterProvider\n",
    "parameters = ParameterProvider(cropdata=cropdata, soildata=soildata, sitedata=sitedata)"
   ]
  },
  {
   "cell_type": "code",
   "execution_count": 8,
   "metadata": {},
   "outputs": [
    {
     "name": "stderr",
     "output_type": "stream",
     "text": [
      "/Users/mikhailgasanov/opt/anaconda3/envs/py3_pcse/lib/python3.6/site-packages/pcse/fileinput/yaml_agro_loader.py:21: YAMLLoadWarning: calling yaml.load() without Loader=... is deprecated, as the default Loader is unsafe. Please read https://msg.pyyaml.org/load for full details.\n",
      "  r = yaml.load(fp)\n"
     ]
    }
   ],
   "source": [
    "from pcse.fileinput import YAMLAgroManagementReader\n",
    "agromanagement_file = os.path.join(data_dir, 'agro', 'sugarbeet_calendar.agro')\n",
    "agromanagement = YAMLAgroManagementReader(agromanagement_file)\n",
    "#print(agromanagement)"
   ]
  },
  {
   "cell_type": "code",
   "execution_count": 10,
   "metadata": {},
   "outputs": [
    {
     "name": "stdout",
     "output_type": "stream",
     "text": [
      "[{datetime.date(2019, 6, 1): {'CropCalendar': {'crop_name': 'sugar-beet', 'variety_name': 'sugar-beet-601', 'crop_start_date': datetime.date(2019, 6, 2), 'crop_start_type': 'emergence', 'crop_end_date': datetime.date(2019, 10, 15), 'crop_end_type': 'harvest', 'max_duration': 300}, 'TimedEvents': [{'event_signal': 'apply_npk', 'name': 'Timed N/P/K application table', 'comment': 'All fertilizer amounts in kg/ha', 'events_table': [{datetime.date(2019, 6, 22): {'N_amount': 120, 'P_amount': 60, 'K_amount': 60}}]}], 'StateEvents': None}}]\n"
     ]
    },
    {
     "name": "stderr",
     "output_type": "stream",
     "text": [
      "/Users/mikhailgasanov/opt/anaconda3/envs/py3_pcse/lib/python3.6/site-packages/ipykernel_launcher.py:24: YAMLLoadWarning: calling yaml.load() without Loader=... is deprecated, as the default Loader is unsafe. Please read https://msg.pyyaml.org/load for full details.\n"
     ]
    }
   ],
   "source": [
    "K_kg = 60\n",
    "P_kg = 60\n",
    "N_kg = 120\n",
    "year_date=2019\n",
    "yaml_agro = f\"\"\"\n",
    "- {year_date}-06-01:\n",
    "    CropCalendar:\n",
    "        crop_name: 'sugar-beet'\n",
    "        variety_name: 'sugar-beet-601'\n",
    "        crop_start_date: {year_date}-06-02\n",
    "        crop_start_type: emergence\n",
    "        crop_end_date: {year_date}-10-15\n",
    "        crop_end_type: harvest\n",
    "        max_duration: 300\n",
    "    TimedEvents:\n",
    "    -   event_signal: apply_npk\n",
    "        name:  Timed N/P/K application table\n",
    "        comment: All fertilizer amounts in kg/ha\n",
    "        events_table:\n",
    "        - {year_date}-06-22: {{N_amount : {N_kg}, P_amount: {P_kg}, K_amount: {K_kg}}}\n",
    "    StateEvents: null\n",
    "\"\"\"\n",
    "#agromanagement = yaml.safe_load(yaml_agro)\n",
    "agromanagement = yaml.load(yaml_agro)\n",
    "print(agromanagement)"
   ]
  },
  {
   "cell_type": "markdown",
   "metadata": {},
   "source": [
    "### Weather"
   ]
  },
  {
   "cell_type": "code",
   "execution_count": null,
   "metadata": {},
   "outputs": [],
   "source": [
    "#NASA Weather system\n",
    "from pcse.db import NASAPowerWeatherDataProvider\n",
    "moscow_weather = NASAPowerWeatherDataProvider(55.45, 37.36)\n",
    "print(moscow_weather)"
   ]
  },
  {
   "cell_type": "markdown",
   "metadata": {},
   "source": [
    "### Model running"
   ]
  },
  {
   "cell_type": "code",
   "execution_count": null,
   "metadata": {},
   "outputs": [],
   "source": [
    "from pcse.models import Wofost71_WLP_FD\n",
    "%%time\n",
    "wofsim = Wofost71_WLP_FD(parameters, wdp, agromanagement)\n",
    "wofsim.run_till_terminate()\n",
    "df_results= pd.DataFrame(wofsim.get_output())\n",
    "df_results = df_results.set_index(\"day\")\n",
    "df_results.tail()"
   ]
  },
  {
   "cell_type": "code",
   "execution_count": null,
   "metadata": {},
   "outputs": [],
   "source": [
    "summary_output = wofsim.get_summary_output()\n",
    "wofsim.get_summary_output()\n",
    "msg = \"Reached maturity at {DOM} with total biomass {TAGP} kg/ha \"\\\n",
    "\"and a yield of {TWSO} kg/ha.\"\n",
    "print(msg.format(**summary_output[0]))"
   ]
  },
  {
   "cell_type": "markdown",
   "metadata": {},
   "source": [
    "## Agromanagment"
   ]
  },
  {
   "cell_type": "code",
   "execution_count": 2,
   "metadata": {},
   "outputs": [
    {
     "ename": "NameError",
     "evalue": "name 'yaml' is not defined",
     "output_type": "error",
     "traceback": [
      "\u001b[0;31m---------------------------------------------------------------------------\u001b[0m",
      "\u001b[0;31mNameError\u001b[0m                                 Traceback (most recent call last)",
      "\u001b[0;32m<ipython-input-2-308bdcf921eb>\u001b[0m in \u001b[0;36m<module>\u001b[0;34m\u001b[0m\n\u001b[1;32m     21\u001b[0m     \u001b[0mStateEvents\u001b[0m\u001b[0;34m:\u001b[0m \u001b[0mnull\u001b[0m\u001b[0;34m\u001b[0m\u001b[0;34m\u001b[0m\u001b[0m\n\u001b[1;32m     22\u001b[0m \"\"\"\n\u001b[0;32m---> 23\u001b[0;31m \u001b[0magromanagement\u001b[0m \u001b[0;34m=\u001b[0m \u001b[0myaml\u001b[0m\u001b[0;34m.\u001b[0m\u001b[0mload\u001b[0m\u001b[0;34m(\u001b[0m\u001b[0myaml_agro\u001b[0m\u001b[0;34m)\u001b[0m\u001b[0;34m\u001b[0m\u001b[0;34m\u001b[0m\u001b[0m\n\u001b[0m",
      "\u001b[0;31mNameError\u001b[0m: name 'yaml' is not defined"
     ]
    }
   ],
   "source": [
    "K_kg = 60\n",
    "P_kg = 60\n",
    "N_kg = 120\n",
    "year_date=2019\n",
    "yaml_agro = f\"\"\"\n",
    "- {year_date}-06-01:\n",
    "    CropCalendar:\n",
    "        crop_name: 'sugar-beet'\n",
    "        variety_name: 'sugar-beet-601'\n",
    "        crop_start_date: {year_date}-06-02\n",
    "        crop_start_type: emergence\n",
    "        crop_end_date: {year_date}-10-15\n",
    "        crop_end_type: harvest\n",
    "        max_duration: 300\n",
    "    TimedEvents:\n",
    "    -   event_signal: apply_npk\n",
    "        name:  Timed N/P/K application table\n",
    "        comment: All fertilizer amounts in kg/ha\n",
    "        events_table:\n",
    "        - {year_date}-06-22: {{N_amount : {N_kg}, P_amount: {P_kg}, K_amount: {K_kg}}}\n",
    "    StateEvents: null\n",
    "\"\"\"\n",
    "agromanagement = yaml.load(yaml_agro)"
   ]
  },
  {
   "cell_type": "code",
   "execution_count": null,
   "metadata": {},
   "outputs": [],
   "source": []
  },
  {
   "cell_type": "code",
   "execution_count": null,
   "metadata": {},
   "outputs": [],
   "source": [
    "def climate_change(year):\n",
    "    K_kg = 60\n",
    "    P_kg = 60\n",
    "    N_kg = 120\n",
    "\n",
    "    year_date=year\n",
    "    yaml_agro = f\"\"\"\n",
    "    - {year_date}-05-01:\n",
    "        CropCalendar:\n",
    "            crop_name: 'sugar-beet'\n",
    "            variety_name: 'sugar-beet-601'\n",
    "            crop_start_date: {year_date}-05-02\n",
    "            crop_start_type: sowing\n",
    "            crop_end_date: \n",
    "            crop_end_type: maturity\n",
    "            max_duration: 250\n",
    "        TimedEvents:\n",
    "        -   event_signal: apply_npk\n",
    "            name:  Timed N/P/K application table\n",
    "            comment: All fertilizer amounts in kg/ha\n",
    "            events_table:\n",
    "            - {year_date}-06-22: {{N_amount : {N_kg}, P_amount: {P_kg}, K_amount: {K_kg}}}\n",
    "        StateEvents: null\n",
    "    \"\"\"\n",
    "    agromanagement = yaml.safe_load(yaml_agro)\n",
    "    #crop_end_date: {year_date_1}-11-15\n",
    "\n",
    "    parameters = ParameterProvider(cropdata=cropdata, soildata=soildata, sitedata=sitedata)\n",
    "    wofsim = Wofost71_WLP_FD(parameters, moscow_weather, agromanagement)\n",
    "    wofsim.run_till_terminate()\n",
    "    #df_results = pd.DataFrame(wofsim.get_output())\n",
    "    #df_results = df_results.set_index(\"day\")\n",
    "    #df_results.tail()\n",
    "    summary_output = wofsim.get_summary_output()\n",
    "    yield_list.append(summary_output[0]['TWSO']) #тут можно и другие параметры сохранять\n",
    "    LAE_list.append(summary_output[0]['LAE']) #тут можно и другие параметры сохранять"
   ]
  }
 ],
 "metadata": {
  "kernelspec": {
   "display_name": "Python 3",
   "language": "python",
   "name": "python3"
  },
  "language_info": {
   "codemirror_mode": {
    "name": "ipython",
    "version": 3
   },
   "file_extension": ".py",
   "mimetype": "text/x-python",
   "name": "python",
   "nbconvert_exporter": "python",
   "pygments_lexer": "ipython3",
   "version": "3.6.10"
  }
 },
 "nbformat": 4,
 "nbformat_minor": 4
}
